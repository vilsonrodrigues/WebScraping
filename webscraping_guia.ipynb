{
  "nbformat": 4,
  "nbformat_minor": 0,
  "metadata": {
    "colab": {
      "name": "webscraping-guia.ipynb",
      "provenance": [],
      "collapsed_sections": [
        "5B-QtV7i3NP9",
        "dfKYiNR4DNuI",
        "xizVJeMAN2wk",
        "eTCYEoHyNlu8",
        "T79Qphqpih5g"
      ],
      "authorship_tag": "ABX9TyMWgnVu2EYOm7Zm6BATiunn",
      "include_colab_link": true
    },
    "kernelspec": {
      "name": "python3",
      "display_name": "Python 3"
    }
  },
  "cells": [
    {
      "cell_type": "markdown",
      "metadata": {
        "id": "view-in-github",
        "colab_type": "text"
      },
      "source": [
        "<a href=\"https://colab.research.google.com/github/vilsonrodrigues/WebScraping/blob/master/webscraping_guia.ipynb\" target=\"_parent\"><img src=\"https://colab.research.google.com/assets/colab-badge.svg\" alt=\"Open In Colab\"/></a>"
      ]
    },
    {
      "cell_type": "markdown",
      "metadata": {
        "id": "n0MIkRbt0z8J",
        "colab_type": "text"
      },
      "source": [
        "**Libs**"
      ]
    },
    {
      "cell_type": "code",
      "metadata": {
        "id": "-Q01OY3llV40",
        "colab_type": "code",
        "colab": {}
      },
      "source": [
        "import requests\n",
        "from bs4 import BeautifulSoup #extrai os dados do html\n",
        "import pandas as pd"
      ],
      "execution_count": 0,
      "outputs": []
    },
    {
      "cell_type": "markdown",
      "metadata": {
        "id": "3DgySw0m3EXJ",
        "colab_type": "text"
      },
      "source": [
        "###Realizando requisição de 1 tabela"
      ]
    },
    {
      "cell_type": "code",
      "metadata": {
        "id": "WrwKCz2cp6yO",
        "colab_type": "code",
        "colab": {}
      },
      "source": [
        "req = requests.get(\"https://www.basketball-reference.com/leagues/NBA_2018_totals.html\")"
      ],
      "execution_count": 0,
      "outputs": []
    },
    {
      "cell_type": "markdown",
      "metadata": {
        "id": "KqQBlvR-qL-N",
        "colab_type": "text"
      },
      "source": [
        "Se requisição bem sucessidada"
      ]
    },
    {
      "cell_type": "code",
      "metadata": {
        "id": "1ZH6K9fAqJMa",
        "colab_type": "code",
        "outputId": "75788b2d-6666-4e28-b3e7-d3ab6eacf4dd",
        "colab": {
          "base_uri": "https://localhost:8080/",
          "height": 34
        }
      },
      "source": [
        "if req.status_code == 200:\n",
        "    print(\"Sucess\")\n",
        "    content = req.content"
      ],
      "execution_count": 0,
      "outputs": [
        {
          "output_type": "stream",
          "text": [
            "Sucess\n"
          ],
          "name": "stdout"
        }
      ]
    },
    {
      "cell_type": "markdown",
      "metadata": {
        "id": "UTDQwF5krUnS",
        "colab_type": "text"
      },
      "source": [
        "Utilizo BeatifulSoup para extrair a tabela"
      ]
    },
    {
      "cell_type": "code",
      "metadata": {
        "id": "r7f_AH6EqO8-",
        "colab_type": "code",
        "colab": {}
      },
      "source": [
        "soup = BeautifulSoup(content, \"html.parser\")\n",
        "table = soup.find(name=\"table\")#arquivo esta dentro de uma table, usa o find pra procurar a table"
      ],
      "execution_count": 0,
      "outputs": []
    },
    {
      "cell_type": "markdown",
      "metadata": {
        "id": "drGzf0tR2LCo",
        "colab_type": "text"
      },
      "source": [
        "Converto pra String pois o obj é do tipo BS"
      ]
    },
    {
      "cell_type": "code",
      "metadata": {
        "id": "Y6VdfjMJ0_Mg",
        "colab_type": "code",
        "colab": {}
      },
      "source": [
        "table_str = str(table)"
      ],
      "execution_count": 0,
      "outputs": []
    },
    {
      "cell_type": "markdown",
      "metadata": {
        "id": "jv9nnaRE2gqa",
        "colab_type": "text"
      },
      "source": [
        "Transformo em DF lendo como de uma estrutura HTML. Acesso a posição 0 pra obter o dataframe, pois retornaria uma lista"
      ]
    },
    {
      "cell_type": "code",
      "metadata": {
        "id": "XBvzgeJV09az",
        "colab_type": "code",
        "colab": {}
      },
      "source": [
        "df = pd.read_html(table_str)[0]"
      ],
      "execution_count": 0,
      "outputs": []
    },
    {
      "cell_type": "markdown",
      "metadata": {
        "id": "m0C3PS5C2yj2",
        "colab_type": "text"
      },
      "source": [
        "E aqui está, uma raspagem dos dados de jogadores da NBA"
      ]
    },
    {
      "cell_type": "code",
      "metadata": {
        "id": "i9_L0kql11Zm",
        "colab_type": "code",
        "outputId": "de91a1f8-ac1a-46ba-9670-2e02d86cd69c",
        "colab": {
          "base_uri": "https://localhost:8080/",
          "height": 406
        }
      },
      "source": [
        "df"
      ],
      "execution_count": 0,
      "outputs": [
        {
          "output_type": "execute_result",
          "data": {
            "text/html": [
              "<div>\n",
              "<style scoped>\n",
              "    .dataframe tbody tr th:only-of-type {\n",
              "        vertical-align: middle;\n",
              "    }\n",
              "\n",
              "    .dataframe tbody tr th {\n",
              "        vertical-align: top;\n",
              "    }\n",
              "\n",
              "    .dataframe thead th {\n",
              "        text-align: right;\n",
              "    }\n",
              "</style>\n",
              "<table border=\"1\" class=\"dataframe\">\n",
              "  <thead>\n",
              "    <tr style=\"text-align: right;\">\n",
              "      <th></th>\n",
              "      <th>Rk</th>\n",
              "      <th>Player</th>\n",
              "      <th>Pos</th>\n",
              "      <th>Age</th>\n",
              "      <th>Tm</th>\n",
              "      <th>G</th>\n",
              "      <th>GS</th>\n",
              "      <th>MP</th>\n",
              "      <th>FG</th>\n",
              "      <th>FGA</th>\n",
              "      <th>FG%</th>\n",
              "      <th>3P</th>\n",
              "      <th>3PA</th>\n",
              "      <th>3P%</th>\n",
              "      <th>2P</th>\n",
              "      <th>2PA</th>\n",
              "      <th>2P%</th>\n",
              "      <th>eFG%</th>\n",
              "      <th>FT</th>\n",
              "      <th>FTA</th>\n",
              "      <th>FT%</th>\n",
              "      <th>ORB</th>\n",
              "      <th>DRB</th>\n",
              "      <th>TRB</th>\n",
              "      <th>AST</th>\n",
              "      <th>STL</th>\n",
              "      <th>BLK</th>\n",
              "      <th>TOV</th>\n",
              "      <th>PF</th>\n",
              "      <th>PTS</th>\n",
              "    </tr>\n",
              "  </thead>\n",
              "  <tbody>\n",
              "    <tr>\n",
              "      <th>0</th>\n",
              "      <td>1</td>\n",
              "      <td>Álex Abrines</td>\n",
              "      <td>SG</td>\n",
              "      <td>24</td>\n",
              "      <td>OKC</td>\n",
              "      <td>75</td>\n",
              "      <td>8</td>\n",
              "      <td>1134</td>\n",
              "      <td>115</td>\n",
              "      <td>291</td>\n",
              "      <td>.395</td>\n",
              "      <td>84</td>\n",
              "      <td>221</td>\n",
              "      <td>.380</td>\n",
              "      <td>31</td>\n",
              "      <td>70</td>\n",
              "      <td>.443</td>\n",
              "      <td>.540</td>\n",
              "      <td>39</td>\n",
              "      <td>46</td>\n",
              "      <td>.848</td>\n",
              "      <td>26</td>\n",
              "      <td>88</td>\n",
              "      <td>114</td>\n",
              "      <td>28</td>\n",
              "      <td>38</td>\n",
              "      <td>8</td>\n",
              "      <td>25</td>\n",
              "      <td>124</td>\n",
              "      <td>353</td>\n",
              "    </tr>\n",
              "    <tr>\n",
              "      <th>1</th>\n",
              "      <td>2</td>\n",
              "      <td>Quincy Acy</td>\n",
              "      <td>PF</td>\n",
              "      <td>27</td>\n",
              "      <td>BRK</td>\n",
              "      <td>70</td>\n",
              "      <td>8</td>\n",
              "      <td>1359</td>\n",
              "      <td>130</td>\n",
              "      <td>365</td>\n",
              "      <td>.356</td>\n",
              "      <td>102</td>\n",
              "      <td>292</td>\n",
              "      <td>.349</td>\n",
              "      <td>28</td>\n",
              "      <td>73</td>\n",
              "      <td>.384</td>\n",
              "      <td>.496</td>\n",
              "      <td>49</td>\n",
              "      <td>60</td>\n",
              "      <td>.817</td>\n",
              "      <td>40</td>\n",
              "      <td>217</td>\n",
              "      <td>257</td>\n",
              "      <td>57</td>\n",
              "      <td>33</td>\n",
              "      <td>29</td>\n",
              "      <td>60</td>\n",
              "      <td>149</td>\n",
              "      <td>411</td>\n",
              "    </tr>\n",
              "    <tr>\n",
              "      <th>2</th>\n",
              "      <td>3</td>\n",
              "      <td>Steven Adams</td>\n",
              "      <td>C</td>\n",
              "      <td>24</td>\n",
              "      <td>OKC</td>\n",
              "      <td>76</td>\n",
              "      <td>76</td>\n",
              "      <td>2487</td>\n",
              "      <td>448</td>\n",
              "      <td>712</td>\n",
              "      <td>.629</td>\n",
              "      <td>0</td>\n",
              "      <td>2</td>\n",
              "      <td>.000</td>\n",
              "      <td>448</td>\n",
              "      <td>710</td>\n",
              "      <td>.631</td>\n",
              "      <td>.629</td>\n",
              "      <td>160</td>\n",
              "      <td>286</td>\n",
              "      <td>.559</td>\n",
              "      <td>384</td>\n",
              "      <td>301</td>\n",
              "      <td>685</td>\n",
              "      <td>88</td>\n",
              "      <td>92</td>\n",
              "      <td>78</td>\n",
              "      <td>128</td>\n",
              "      <td>215</td>\n",
              "      <td>1056</td>\n",
              "    </tr>\n",
              "    <tr>\n",
              "      <th>3</th>\n",
              "      <td>4</td>\n",
              "      <td>Bam Adebayo</td>\n",
              "      <td>C</td>\n",
              "      <td>20</td>\n",
              "      <td>MIA</td>\n",
              "      <td>69</td>\n",
              "      <td>19</td>\n",
              "      <td>1368</td>\n",
              "      <td>174</td>\n",
              "      <td>340</td>\n",
              "      <td>.512</td>\n",
              "      <td>0</td>\n",
              "      <td>7</td>\n",
              "      <td>.000</td>\n",
              "      <td>174</td>\n",
              "      <td>333</td>\n",
              "      <td>.523</td>\n",
              "      <td>.512</td>\n",
              "      <td>129</td>\n",
              "      <td>179</td>\n",
              "      <td>.721</td>\n",
              "      <td>118</td>\n",
              "      <td>263</td>\n",
              "      <td>381</td>\n",
              "      <td>101</td>\n",
              "      <td>32</td>\n",
              "      <td>41</td>\n",
              "      <td>66</td>\n",
              "      <td>138</td>\n",
              "      <td>477</td>\n",
              "    </tr>\n",
              "    <tr>\n",
              "      <th>4</th>\n",
              "      <td>5</td>\n",
              "      <td>Arron Afflalo</td>\n",
              "      <td>SG</td>\n",
              "      <td>32</td>\n",
              "      <td>ORL</td>\n",
              "      <td>53</td>\n",
              "      <td>3</td>\n",
              "      <td>682</td>\n",
              "      <td>65</td>\n",
              "      <td>162</td>\n",
              "      <td>.401</td>\n",
              "      <td>27</td>\n",
              "      <td>70</td>\n",
              "      <td>.386</td>\n",
              "      <td>38</td>\n",
              "      <td>92</td>\n",
              "      <td>.413</td>\n",
              "      <td>.485</td>\n",
              "      <td>22</td>\n",
              "      <td>26</td>\n",
              "      <td>.846</td>\n",
              "      <td>4</td>\n",
              "      <td>62</td>\n",
              "      <td>66</td>\n",
              "      <td>30</td>\n",
              "      <td>4</td>\n",
              "      <td>9</td>\n",
              "      <td>21</td>\n",
              "      <td>56</td>\n",
              "      <td>179</td>\n",
              "    </tr>\n",
              "    <tr>\n",
              "      <th>...</th>\n",
              "      <td>...</td>\n",
              "      <td>...</td>\n",
              "      <td>...</td>\n",
              "      <td>...</td>\n",
              "      <td>...</td>\n",
              "      <td>...</td>\n",
              "      <td>...</td>\n",
              "      <td>...</td>\n",
              "      <td>...</td>\n",
              "      <td>...</td>\n",
              "      <td>...</td>\n",
              "      <td>...</td>\n",
              "      <td>...</td>\n",
              "      <td>...</td>\n",
              "      <td>...</td>\n",
              "      <td>...</td>\n",
              "      <td>...</td>\n",
              "      <td>...</td>\n",
              "      <td>...</td>\n",
              "      <td>...</td>\n",
              "      <td>...</td>\n",
              "      <td>...</td>\n",
              "      <td>...</td>\n",
              "      <td>...</td>\n",
              "      <td>...</td>\n",
              "      <td>...</td>\n",
              "      <td>...</td>\n",
              "      <td>...</td>\n",
              "      <td>...</td>\n",
              "      <td>...</td>\n",
              "    </tr>\n",
              "    <tr>\n",
              "      <th>685</th>\n",
              "      <td>537</td>\n",
              "      <td>Tyler Zeller</td>\n",
              "      <td>C</td>\n",
              "      <td>28</td>\n",
              "      <td>BRK</td>\n",
              "      <td>42</td>\n",
              "      <td>33</td>\n",
              "      <td>703</td>\n",
              "      <td>125</td>\n",
              "      <td>229</td>\n",
              "      <td>.546</td>\n",
              "      <td>10</td>\n",
              "      <td>26</td>\n",
              "      <td>.385</td>\n",
              "      <td>115</td>\n",
              "      <td>203</td>\n",
              "      <td>.567</td>\n",
              "      <td>.568</td>\n",
              "      <td>40</td>\n",
              "      <td>60</td>\n",
              "      <td>.667</td>\n",
              "      <td>63</td>\n",
              "      <td>131</td>\n",
              "      <td>194</td>\n",
              "      <td>28</td>\n",
              "      <td>8</td>\n",
              "      <td>21</td>\n",
              "      <td>35</td>\n",
              "      <td>78</td>\n",
              "      <td>300</td>\n",
              "    </tr>\n",
              "    <tr>\n",
              "      <th>686</th>\n",
              "      <td>537</td>\n",
              "      <td>Tyler Zeller</td>\n",
              "      <td>C</td>\n",
              "      <td>28</td>\n",
              "      <td>MIL</td>\n",
              "      <td>24</td>\n",
              "      <td>1</td>\n",
              "      <td>406</td>\n",
              "      <td>62</td>\n",
              "      <td>105</td>\n",
              "      <td>.590</td>\n",
              "      <td>0</td>\n",
              "      <td>2</td>\n",
              "      <td>.000</td>\n",
              "      <td>62</td>\n",
              "      <td>103</td>\n",
              "      <td>.602</td>\n",
              "      <td>.590</td>\n",
              "      <td>17</td>\n",
              "      <td>19</td>\n",
              "      <td>.895</td>\n",
              "      <td>47</td>\n",
              "      <td>64</td>\n",
              "      <td>111</td>\n",
              "      <td>19</td>\n",
              "      <td>7</td>\n",
              "      <td>14</td>\n",
              "      <td>12</td>\n",
              "      <td>48</td>\n",
              "      <td>141</td>\n",
              "    </tr>\n",
              "    <tr>\n",
              "      <th>687</th>\n",
              "      <td>538</td>\n",
              "      <td>Paul Zipser</td>\n",
              "      <td>SF</td>\n",
              "      <td>23</td>\n",
              "      <td>CHI</td>\n",
              "      <td>54</td>\n",
              "      <td>12</td>\n",
              "      <td>824</td>\n",
              "      <td>81</td>\n",
              "      <td>234</td>\n",
              "      <td>.346</td>\n",
              "      <td>37</td>\n",
              "      <td>110</td>\n",
              "      <td>.336</td>\n",
              "      <td>44</td>\n",
              "      <td>124</td>\n",
              "      <td>.355</td>\n",
              "      <td>.425</td>\n",
              "      <td>19</td>\n",
              "      <td>25</td>\n",
              "      <td>.760</td>\n",
              "      <td>13</td>\n",
              "      <td>118</td>\n",
              "      <td>131</td>\n",
              "      <td>46</td>\n",
              "      <td>20</td>\n",
              "      <td>15</td>\n",
              "      <td>43</td>\n",
              "      <td>86</td>\n",
              "      <td>218</td>\n",
              "    </tr>\n",
              "    <tr>\n",
              "      <th>688</th>\n",
              "      <td>539</td>\n",
              "      <td>Ante Žižić</td>\n",
              "      <td>C</td>\n",
              "      <td>21</td>\n",
              "      <td>CLE</td>\n",
              "      <td>32</td>\n",
              "      <td>2</td>\n",
              "      <td>214</td>\n",
              "      <td>49</td>\n",
              "      <td>67</td>\n",
              "      <td>.731</td>\n",
              "      <td>0</td>\n",
              "      <td>0</td>\n",
              "      <td>NaN</td>\n",
              "      <td>49</td>\n",
              "      <td>67</td>\n",
              "      <td>.731</td>\n",
              "      <td>.731</td>\n",
              "      <td>21</td>\n",
              "      <td>29</td>\n",
              "      <td>.724</td>\n",
              "      <td>24</td>\n",
              "      <td>36</td>\n",
              "      <td>60</td>\n",
              "      <td>5</td>\n",
              "      <td>2</td>\n",
              "      <td>13</td>\n",
              "      <td>11</td>\n",
              "      <td>30</td>\n",
              "      <td>119</td>\n",
              "    </tr>\n",
              "    <tr>\n",
              "      <th>689</th>\n",
              "      <td>540</td>\n",
              "      <td>Ivica Zubac</td>\n",
              "      <td>C</td>\n",
              "      <td>20</td>\n",
              "      <td>LAL</td>\n",
              "      <td>43</td>\n",
              "      <td>0</td>\n",
              "      <td>410</td>\n",
              "      <td>61</td>\n",
              "      <td>122</td>\n",
              "      <td>.500</td>\n",
              "      <td>0</td>\n",
              "      <td>1</td>\n",
              "      <td>.000</td>\n",
              "      <td>61</td>\n",
              "      <td>121</td>\n",
              "      <td>.504</td>\n",
              "      <td>.500</td>\n",
              "      <td>39</td>\n",
              "      <td>51</td>\n",
              "      <td>.765</td>\n",
              "      <td>45</td>\n",
              "      <td>78</td>\n",
              "      <td>123</td>\n",
              "      <td>25</td>\n",
              "      <td>8</td>\n",
              "      <td>15</td>\n",
              "      <td>26</td>\n",
              "      <td>47</td>\n",
              "      <td>161</td>\n",
              "    </tr>\n",
              "  </tbody>\n",
              "</table>\n",
              "<p>690 rows × 30 columns</p>\n",
              "</div>"
            ],
            "text/plain": [
              "      Rk         Player Pos Age   Tm   G  GS  ...  TRB  AST STL BLK  TOV   PF   PTS\n",
              "0      1   Álex Abrines  SG  24  OKC  75   8  ...  114   28  38   8   25  124   353\n",
              "1      2     Quincy Acy  PF  27  BRK  70   8  ...  257   57  33  29   60  149   411\n",
              "2      3   Steven Adams   C  24  OKC  76  76  ...  685   88  92  78  128  215  1056\n",
              "3      4    Bam Adebayo   C  20  MIA  69  19  ...  381  101  32  41   66  138   477\n",
              "4      5  Arron Afflalo  SG  32  ORL  53   3  ...   66   30   4   9   21   56   179\n",
              "..   ...            ...  ..  ..  ...  ..  ..  ...  ...  ...  ..  ..  ...  ...   ...\n",
              "685  537   Tyler Zeller   C  28  BRK  42  33  ...  194   28   8  21   35   78   300\n",
              "686  537   Tyler Zeller   C  28  MIL  24   1  ...  111   19   7  14   12   48   141\n",
              "687  538    Paul Zipser  SF  23  CHI  54  12  ...  131   46  20  15   43   86   218\n",
              "688  539     Ante Žižić   C  21  CLE  32   2  ...   60    5   2  13   11   30   119\n",
              "689  540    Ivica Zubac   C  20  LAL  43   0  ...  123   25   8  15   26   47   161\n",
              "\n",
              "[690 rows x 30 columns]"
            ]
          },
          "metadata": {
            "tags": []
          },
          "execution_count": 13
        }
      ]
    },
    {
      "cell_type": "code",
      "metadata": {
        "id": "UU31QUji25Yr",
        "colab_type": "code",
        "outputId": "0de316dd-1569-4a13-9f09-730ff701ece6",
        "colab": {
          "base_uri": "https://localhost:8080/",
          "height": 638
        }
      },
      "source": [
        "df.info()"
      ],
      "execution_count": 0,
      "outputs": [
        {
          "output_type": "stream",
          "text": [
            "<class 'pandas.core.frame.DataFrame'>\n",
            "RangeIndex: 690 entries, 0 to 689\n",
            "Data columns (total 30 columns):\n",
            "Rk        690 non-null object\n",
            "Player    690 non-null object\n",
            "Pos       690 non-null object\n",
            "Age       690 non-null object\n",
            "Tm        690 non-null object\n",
            "G         690 non-null object\n",
            "GS        690 non-null object\n",
            "MP        690 non-null object\n",
            "FG        690 non-null object\n",
            "FGA       690 non-null object\n",
            "FG%       686 non-null object\n",
            "3P        690 non-null object\n",
            "3PA       690 non-null object\n",
            "3P%       625 non-null object\n",
            "2P        690 non-null object\n",
            "2PA       690 non-null object\n",
            "2P%       672 non-null object\n",
            "eFG%      686 non-null object\n",
            "FT        690 non-null object\n",
            "FTA       690 non-null object\n",
            "FT%       632 non-null object\n",
            "ORB       690 non-null object\n",
            "DRB       690 non-null object\n",
            "TRB       690 non-null object\n",
            "AST       690 non-null object\n",
            "STL       690 non-null object\n",
            "BLK       690 non-null object\n",
            "TOV       690 non-null object\n",
            "PF        690 non-null object\n",
            "PTS       690 non-null object\n",
            "dtypes: object(30)\n",
            "memory usage: 161.8+ KB\n"
          ],
          "name": "stdout"
        }
      ]
    },
    {
      "cell_type": "markdown",
      "metadata": {
        "id": "5B-QtV7i3NP9",
        "colab_type": "text"
      },
      "source": [
        "###Requisição de mais +1 tabela"
      ]
    },
    {
      "cell_type": "markdown",
      "metadata": {
        "id": "InoiDscX313q",
        "colab_type": "text"
      },
      "source": [
        "Nesse caso eu tenho duas opções:\n",
        "\n",
        "buscar tudo e depois verificar a posição da tabela com o **find_all**; ou\n",
        "\n",
        "usar o método **attrs** para buscar um elemento obrigatório\n",
        "\n"
      ]
    },
    {
      "cell_type": "code",
      "metadata": {
        "id": "jUNLFI963L40",
        "colab_type": "code",
        "colab": {}
      },
      "source": [
        "req = requests.get(\"https://www.basketball-reference.com/leagues/NBA_2018_standings.html\")\n",
        "if req.status_code == 200:\n",
        "    content = req.content"
      ],
      "execution_count": 0,
      "outputs": []
    },
    {
      "cell_type": "code",
      "metadata": {
        "id": "-aCNJ-VZCOxe",
        "colab_type": "code",
        "colab": {}
      },
      "source": [
        "soup = BeautifulSoup(content, \"html.parser\")\n",
        "table = soup.find(name=\"table\", attrs = {\"id\":\"confs_standings_W\"})"
      ],
      "execution_count": 0,
      "outputs": []
    },
    {
      "cell_type": "code",
      "metadata": {
        "id": "5z-a9Sj5C2rx",
        "colab_type": "code",
        "colab": {}
      },
      "source": [
        "table_str = str(table)"
      ],
      "execution_count": 0,
      "outputs": []
    },
    {
      "cell_type": "code",
      "metadata": {
        "id": "606g-1CyC0Lp",
        "colab_type": "code",
        "colab": {}
      },
      "source": [
        "data = pd.read_html(table_str)[0]"
      ],
      "execution_count": 0,
      "outputs": []
    },
    {
      "cell_type": "code",
      "metadata": {
        "id": "Isb47MLHClRC",
        "colab_type": "code",
        "outputId": "cc2def64-e641-425d-b7d1-28035fd43d8e",
        "colab": {
          "base_uri": "https://localhost:8080/",
          "height": 497
        }
      },
      "source": [
        "data"
      ],
      "execution_count": 0,
      "outputs": [
        {
          "output_type": "execute_result",
          "data": {
            "text/html": [
              "<div>\n",
              "<style scoped>\n",
              "    .dataframe tbody tr th:only-of-type {\n",
              "        vertical-align: middle;\n",
              "    }\n",
              "\n",
              "    .dataframe tbody tr th {\n",
              "        vertical-align: top;\n",
              "    }\n",
              "\n",
              "    .dataframe thead th {\n",
              "        text-align: right;\n",
              "    }\n",
              "</style>\n",
              "<table border=\"1\" class=\"dataframe\">\n",
              "  <thead>\n",
              "    <tr style=\"text-align: right;\">\n",
              "      <th></th>\n",
              "      <th>Western Conference</th>\n",
              "      <th>W</th>\n",
              "      <th>L</th>\n",
              "      <th>W/L%</th>\n",
              "      <th>GB</th>\n",
              "      <th>PS/G</th>\n",
              "      <th>PA/G</th>\n",
              "      <th>SRS</th>\n",
              "    </tr>\n",
              "  </thead>\n",
              "  <tbody>\n",
              "    <tr>\n",
              "      <th>0</th>\n",
              "      <td>Houston Rockets* (1)</td>\n",
              "      <td>65</td>\n",
              "      <td>17</td>\n",
              "      <td>0.793</td>\n",
              "      <td>—</td>\n",
              "      <td>112.4</td>\n",
              "      <td>103.9</td>\n",
              "      <td>8.21</td>\n",
              "    </tr>\n",
              "    <tr>\n",
              "      <th>1</th>\n",
              "      <td>Golden State Warriors* (2)</td>\n",
              "      <td>58</td>\n",
              "      <td>24</td>\n",
              "      <td>0.707</td>\n",
              "      <td>7.0</td>\n",
              "      <td>113.5</td>\n",
              "      <td>107.5</td>\n",
              "      <td>5.79</td>\n",
              "    </tr>\n",
              "    <tr>\n",
              "      <th>2</th>\n",
              "      <td>Portland Trail Blazers* (3)</td>\n",
              "      <td>49</td>\n",
              "      <td>33</td>\n",
              "      <td>0.598</td>\n",
              "      <td>16.0</td>\n",
              "      <td>105.6</td>\n",
              "      <td>103.0</td>\n",
              "      <td>2.60</td>\n",
              "    </tr>\n",
              "    <tr>\n",
              "      <th>3</th>\n",
              "      <td>Oklahoma City Thunder* (4)</td>\n",
              "      <td>48</td>\n",
              "      <td>34</td>\n",
              "      <td>0.585</td>\n",
              "      <td>17.0</td>\n",
              "      <td>107.9</td>\n",
              "      <td>104.4</td>\n",
              "      <td>3.42</td>\n",
              "    </tr>\n",
              "    <tr>\n",
              "      <th>4</th>\n",
              "      <td>Utah Jazz* (5)</td>\n",
              "      <td>48</td>\n",
              "      <td>34</td>\n",
              "      <td>0.585</td>\n",
              "      <td>17.0</td>\n",
              "      <td>104.1</td>\n",
              "      <td>99.8</td>\n",
              "      <td>4.47</td>\n",
              "    </tr>\n",
              "    <tr>\n",
              "      <th>5</th>\n",
              "      <td>New Orleans Pelicans* (6)</td>\n",
              "      <td>48</td>\n",
              "      <td>34</td>\n",
              "      <td>0.585</td>\n",
              "      <td>17.0</td>\n",
              "      <td>111.7</td>\n",
              "      <td>110.4</td>\n",
              "      <td>1.48</td>\n",
              "    </tr>\n",
              "    <tr>\n",
              "      <th>6</th>\n",
              "      <td>San Antonio Spurs* (7)</td>\n",
              "      <td>47</td>\n",
              "      <td>35</td>\n",
              "      <td>0.573</td>\n",
              "      <td>18.0</td>\n",
              "      <td>102.7</td>\n",
              "      <td>99.8</td>\n",
              "      <td>2.89</td>\n",
              "    </tr>\n",
              "    <tr>\n",
              "      <th>7</th>\n",
              "      <td>Minnesota Timberwolves* (8)</td>\n",
              "      <td>47</td>\n",
              "      <td>35</td>\n",
              "      <td>0.573</td>\n",
              "      <td>18.0</td>\n",
              "      <td>109.5</td>\n",
              "      <td>107.3</td>\n",
              "      <td>2.35</td>\n",
              "    </tr>\n",
              "    <tr>\n",
              "      <th>8</th>\n",
              "      <td>Denver Nuggets (9)</td>\n",
              "      <td>46</td>\n",
              "      <td>36</td>\n",
              "      <td>0.561</td>\n",
              "      <td>19.0</td>\n",
              "      <td>110.0</td>\n",
              "      <td>108.5</td>\n",
              "      <td>1.57</td>\n",
              "    </tr>\n",
              "    <tr>\n",
              "      <th>9</th>\n",
              "      <td>Los Angeles Clippers (10)</td>\n",
              "      <td>42</td>\n",
              "      <td>40</td>\n",
              "      <td>0.512</td>\n",
              "      <td>23.0</td>\n",
              "      <td>109.0</td>\n",
              "      <td>109.0</td>\n",
              "      <td>0.15</td>\n",
              "    </tr>\n",
              "    <tr>\n",
              "      <th>10</th>\n",
              "      <td>Los Angeles Lakers (11)</td>\n",
              "      <td>35</td>\n",
              "      <td>47</td>\n",
              "      <td>0.427</td>\n",
              "      <td>30.0</td>\n",
              "      <td>108.1</td>\n",
              "      <td>109.6</td>\n",
              "      <td>-1.44</td>\n",
              "    </tr>\n",
              "    <tr>\n",
              "      <th>11</th>\n",
              "      <td>Sacramento Kings (12)</td>\n",
              "      <td>27</td>\n",
              "      <td>55</td>\n",
              "      <td>0.329</td>\n",
              "      <td>38.0</td>\n",
              "      <td>98.8</td>\n",
              "      <td>105.8</td>\n",
              "      <td>-6.60</td>\n",
              "    </tr>\n",
              "    <tr>\n",
              "      <th>12</th>\n",
              "      <td>Dallas Mavericks (13)</td>\n",
              "      <td>24</td>\n",
              "      <td>58</td>\n",
              "      <td>0.293</td>\n",
              "      <td>41.0</td>\n",
              "      <td>102.3</td>\n",
              "      <td>105.4</td>\n",
              "      <td>-2.70</td>\n",
              "    </tr>\n",
              "    <tr>\n",
              "      <th>13</th>\n",
              "      <td>Memphis Grizzlies (14)</td>\n",
              "      <td>22</td>\n",
              "      <td>60</td>\n",
              "      <td>0.268</td>\n",
              "      <td>43.0</td>\n",
              "      <td>99.3</td>\n",
              "      <td>105.5</td>\n",
              "      <td>-5.81</td>\n",
              "    </tr>\n",
              "    <tr>\n",
              "      <th>14</th>\n",
              "      <td>Phoenix Suns (15)</td>\n",
              "      <td>21</td>\n",
              "      <td>61</td>\n",
              "      <td>0.256</td>\n",
              "      <td>44.0</td>\n",
              "      <td>103.9</td>\n",
              "      <td>113.3</td>\n",
              "      <td>-8.80</td>\n",
              "    </tr>\n",
              "  </tbody>\n",
              "</table>\n",
              "</div>"
            ],
            "text/plain": [
              "             Western Conference   W   L   W/L%    GB   PS/G   PA/G   SRS\n",
              "0          Houston Rockets* (1)  65  17  0.793     —  112.4  103.9  8.21\n",
              "1    Golden State Warriors* (2)  58  24  0.707   7.0  113.5  107.5  5.79\n",
              "2   Portland Trail Blazers* (3)  49  33  0.598  16.0  105.6  103.0  2.60\n",
              "3    Oklahoma City Thunder* (4)  48  34  0.585  17.0  107.9  104.4  3.42\n",
              "4                Utah Jazz* (5)  48  34  0.585  17.0  104.1   99.8  4.47\n",
              "5     New Orleans Pelicans* (6)  48  34  0.585  17.0  111.7  110.4  1.48\n",
              "6        San Antonio Spurs* (7)  47  35  0.573  18.0  102.7   99.8  2.89\n",
              "7   Minnesota Timberwolves* (8)  47  35  0.573  18.0  109.5  107.3  2.35\n",
              "8            Denver Nuggets (9)  46  36  0.561  19.0  110.0  108.5  1.57\n",
              "9     Los Angeles Clippers (10)  42  40  0.512  23.0  109.0  109.0  0.15\n",
              "10      Los Angeles Lakers (11)  35  47  0.427  30.0  108.1  109.6 -1.44\n",
              "11        Sacramento Kings (12)  27  55  0.329  38.0   98.8  105.8 -6.60\n",
              "12        Dallas Mavericks (13)  24  58  0.293  41.0  102.3  105.4 -2.70\n",
              "13       Memphis Grizzlies (14)  22  60  0.268  43.0   99.3  105.5 -5.81\n",
              "14            Phoenix Suns (15)  21  61  0.256  44.0  103.9  113.3 -8.80"
            ]
          },
          "metadata": {
            "tags": []
          },
          "execution_count": 13
        }
      ]
    },
    {
      "cell_type": "markdown",
      "metadata": {
        "id": "dfKYiNR4DNuI",
        "colab_type": "text"
      },
      "source": [
        "###Projeto - Tirar Número de Leitos por Município do DataSUS"
      ]
    },
    {
      "cell_type": "code",
      "metadata": {
        "id": "zTaJmUWfDUXB",
        "colab_type": "code",
        "colab": {}
      },
      "source": [
        "req = requests.get(\"http://tabnet.datasus.gov.br/cgi/tabcgi.exe?cnes/cnv/leiintbr.def\")\n",
        "if req.status_code == 200:\n",
        "    content = req.content"
      ],
      "execution_count": 0,
      "outputs": []
    },
    {
      "cell_type": "code",
      "metadata": {
        "id": "Dt4LNC1EGZl2",
        "colab_type": "code",
        "colab": {}
      },
      "source": [
        "soup = BeautifulSoup(content, \"html.parser\")"
      ],
      "execution_count": 0,
      "outputs": []
    },
    {
      "cell_type": "code",
      "metadata": {
        "id": "md5BJyX3Gapj",
        "colab_type": "code",
        "colab": {}
      },
      "source": [
        "table = soup.find(name=\"table\",attrs = {\"class\":\"tabdados\"})"
      ],
      "execution_count": 0,
      "outputs": []
    },
    {
      "cell_type": "code",
      "metadata": {
        "id": "zpQ3R94hGcCU",
        "colab_type": "code",
        "colab": {}
      },
      "source": [
        "table_str = str(table)"
      ],
      "execution_count": 0,
      "outputs": []
    },
    {
      "cell_type": "code",
      "metadata": {
        "id": "ko6YAXx0Gc83",
        "colab_type": "code",
        "colab": {}
      },
      "source": [
        "data = pd.read_html(table_str)[0]"
      ],
      "execution_count": 0,
      "outputs": []
    },
    {
      "cell_type": "code",
      "metadata": {
        "id": "xHJ594GZDyYk",
        "colab_type": "code",
        "colab": {}
      },
      "source": [
        "data"
      ],
      "execution_count": 0,
      "outputs": []
    },
    {
      "cell_type": "markdown",
      "metadata": {
        "id": "xizVJeMAN2wk",
        "colab_type": "text"
      },
      "source": [
        "###IBGE"
      ]
    },
    {
      "cell_type": "code",
      "metadata": {
        "id": "s3yg8QjsN1jl",
        "colab_type": "code",
        "colab": {}
      },
      "source": [
        "req = requests.get(\"https://www.ibge.gov.br/estatisticas/sociais/populacao/9109-projecao-da-populacao.html?=&t=o-que-e\")"
      ],
      "execution_count": 0,
      "outputs": []
    },
    {
      "cell_type": "code",
      "metadata": {
        "id": "3FGERNKxABq1",
        "colab_type": "code",
        "colab": {}
      },
      "source": [
        "if req.status_code == 200:\n",
        "    content = req.content"
      ],
      "execution_count": 0,
      "outputs": []
    },
    {
      "cell_type": "code",
      "metadata": {
        "id": "jDa7XdeiAE2-",
        "colab_type": "code",
        "colab": {}
      },
      "source": [
        "soup = BeautifulSoup(content, \"html.parser\")"
      ],
      "execution_count": 0,
      "outputs": []
    },
    {
      "cell_type": "code",
      "metadata": {
        "id": "O-fkJg8GANNo",
        "colab_type": "code",
        "colab": {}
      },
      "source": [
        "print(soup.prettify())"
      ],
      "execution_count": 0,
      "outputs": []
    },
    {
      "cell_type": "markdown",
      "metadata": {
        "id": "eTCYEoHyNlu8",
        "colab_type": "text"
      },
      "source": [
        "###PDF"
      ]
    },
    {
      "cell_type": "markdown",
      "metadata": {
        "id": "aIv7l1IkPt5r",
        "colab_type": "text"
      },
      "source": [
        "Usando urllib"
      ]
    },
    {
      "cell_type": "code",
      "metadata": {
        "id": "eH5Yr2iJPbYa",
        "colab_type": "code",
        "colab": {}
      },
      "source": [
        "from urllib.request import urlopen\n",
        "from bs4 import BeautifulSoup\n",
        "import pandas as pd"
      ],
      "execution_count": 0,
      "outputs": []
    },
    {
      "cell_type": "code",
      "metadata": {
        "id": "nruQ8dOVZCrn",
        "colab_type": "code",
        "colab": {}
      },
      "source": [
        "html = urlopen(\"http://www.elivros-gratis.net/livros-gratis-william-shakespeare.asp\")"
      ],
      "execution_count": 0,
      "outputs": []
    },
    {
      "cell_type": "code",
      "metadata": {
        "id": "huFgAgqpPedu",
        "colab_type": "code",
        "colab": {}
      },
      "source": [
        "bsObj = BeautifulSoup(html.read())\n",
        "print(bsObj.h1)\n",
        "#bsObj.findAll(\"table\")[4].findAll(\"tr\")[2].find(\"td\").findAll(\"div\")[1].find(\"a\")\n",
        "#images = bsObj.findAll(\"img\", {\"src\":re.compile(\"\\.\\.\\/img\\/gifts/img.*\\.jpg\")})"
      ],
      "execution_count": 0,
      "outputs": []
    },
    {
      "cell_type": "code",
      "metadata": {
        "id": "a8LU7AAGNqob",
        "colab_type": "code",
        "colab": {}
      },
      "source": [
        "import pdfquery\n",
        "from lxml import etree\n",
        "\n",
        "\n",
        "PDF_FILE = 'C:\\\\TEMP\\\\2015-cg-insulin-pumps.pdf'\n",
        "\n",
        "pdf = pdfquery.PDFQuery(PDF_FILE)\n",
        "pdf.load()"
      ],
      "execution_count": 0,
      "outputs": []
    },
    {
      "cell_type": "markdown",
      "metadata": {
        "id": "T79Qphqpih5g",
        "colab_type": "text"
      },
      "source": [
        "###Lendo Arquivos de texto"
      ]
    },
    {
      "cell_type": "code",
      "metadata": {
        "id": "nhzqE6o_jBj9",
        "colab_type": "code",
        "colab": {}
      },
      "source": [
        "from urllib.request import urlopen\n",
        "from bs4 import BeautifulSoup\n",
        "from selenium import webdriver\n",
        "from selenium.webdriver.chrome.options import Options\n",
        "#import webbrowser"
      ],
      "execution_count": 0,
      "outputs": []
    },
    {
      "cell_type": "code",
      "metadata": {
        "id": "IDxiS0LRhNEl",
        "colab_type": "code",
        "colab": {}
      },
      "source": [
        "textPage = urlopen(\"http://www.pythonscraping.com/pages/warandpeace/chapter1.txt\")\n",
        "print(textPage.read())"
      ],
      "execution_count": 0,
      "outputs": []
    },
    {
      "cell_type": "code",
      "metadata": {
        "id": "YhfxaG1iktex",
        "colab_type": "code",
        "colab": {}
      },
      "source": [
        "textPage = urlopen(\"http://www.pythonscraping.com/pages/warandpeace/chapter1-ru.txt\")\n",
        "print(str(textPage.read(), \"utf-8\"))"
      ],
      "execution_count": 0,
      "outputs": []
    },
    {
      "cell_type": "code",
      "metadata": {
        "id": "nNN_RL-LmSIN",
        "colab_type": "code",
        "colab": {}
      },
      "source": [
        "pdfFile = urlopen(\"http://www.adcon.rn.gov.br/ACERVO/sesap/DOC/DOC000000000225851.PDF\")"
      ],
      "execution_count": 0,
      "outputs": []
    },
    {
      "cell_type": "code",
      "metadata": {
        "id": "9AyDj0vkmdqe",
        "colab_type": "code",
        "colab": {}
      },
      "source": [
        "pdfFile.read()"
      ],
      "execution_count": 0,
      "outputs": []
    },
    {
      "cell_type": "code",
      "metadata": {
        "id": "QVZzNIxJxyST",
        "colab_type": "code",
        "colab": {}
      },
      "source": [
        "pip install requests2"
      ],
      "execution_count": 0,
      "outputs": []
    },
    {
      "cell_type": "code",
      "metadata": {
        "id": "xqLpxMeJy4L_",
        "colab_type": "code",
        "colab": {}
      },
      "source": [
        "import requests2"
      ],
      "execution_count": 0,
      "outputs": []
    },
    {
      "cell_type": "code",
      "metadata": {
        "id": "YP-aoOZn2khL",
        "colab_type": "code",
        "colab": {}
      },
      "source": [
        "pip install selenium"
      ],
      "execution_count": 0,
      "outputs": []
    },
    {
      "cell_type": "code",
      "metadata": {
        "id": "1jtDO3TP2Q_h",
        "colab_type": "code",
        "colab": {}
      },
      "source": [
        "import requests\n",
        "from bs4 import BeautifulSoup\n",
        "from selenium import webdriver\n",
        "from selenium.webdriver.chrome.options import Options\n",
        "\n",
        "url =  \"http://www.saude.rn.gov.br/Conteudo.asp?TRAN=ITEM&TARG=223456&ACT=&PAGE=&PARM=&LBL=MAT%C9RIA\"\n",
        "\n",
        "\n",
        "option = Options()\n",
        "option.headless = True\n",
        "driver = webdriver.Chrome()\n",
        "\n",
        "driver.get(url)\n",
        "\n",
        "driver.quit()"
      ],
      "execution_count": 0,
      "outputs": []
    },
    {
      "cell_type": "code",
      "metadata": {
        "id": "TNrVD4492o9V",
        "colab_type": "code",
        "colab": {}
      },
      "source": [
        ""
      ],
      "execution_count": 0,
      "outputs": []
    },
    {
      "cell_type": "code",
      "metadata": {
        "id": "CNMgrdHo2vbI",
        "colab_type": "code",
        "colab": {}
      },
      "source": [
        ""
      ],
      "execution_count": 0,
      "outputs": []
    },
    {
      "cell_type": "code",
      "metadata": {
        "id": "XFtmTzXh26Rq",
        "colab_type": "code",
        "colab": {}
      },
      "source": [
        ""
      ],
      "execution_count": 0,
      "outputs": []
    },
    {
      "cell_type": "code",
      "metadata": {
        "id": "yZymocTp2_H-",
        "colab_type": "code",
        "colab": {}
      },
      "source": [
        ""
      ],
      "execution_count": 0,
      "outputs": []
    },
    {
      "cell_type": "markdown",
      "metadata": {
        "id": "SMQwfHZWbNy_",
        "colab_type": "text"
      },
      "source": [
        "###Urllib3"
      ]
    },
    {
      "cell_type": "code",
      "metadata": {
        "id": "kC1w7eLoLyaO",
        "colab_type": "code",
        "colab": {}
      },
      "source": [
        "import pandas as pd\n",
        "import urllib3\n",
        "from bs4 import BeautifulSoup\n",
        "#import json\n",
        "import gzip\n",
        "import os"
      ],
      "execution_count": 0,
      "outputs": []
    },
    {
      "cell_type": "code",
      "metadata": {
        "id": "O76fZOZuMPeK",
        "colab_type": "code",
        "colab": {}
      },
      "source": [
        "http = urllib3.PoolManager()"
      ],
      "execution_count": 0,
      "outputs": []
    },
    {
      "cell_type": "code",
      "metadata": {
        "id": "KFsZAC7MygbO",
        "colab_type": "code",
        "colab": {}
      },
      "source": [
        "url = \"https://data.brasil.io/dataset/covid19/caso.csv.gz\""
      ],
      "execution_count": 0,
      "outputs": []
    },
    {
      "cell_type": "code",
      "metadata": {
        "id": "NbVWZMfnyywp",
        "colab_type": "code",
        "colab": {}
      },
      "source": [
        "req = http.request(\"GET\",url)\n",
        "print(req.status)"
      ],
      "execution_count": 0,
      "outputs": []
    },
    {
      "cell_type": "code",
      "metadata": {
        "id": "Y1a_xl9W7Gml",
        "colab_type": "code",
        "colab": {}
      },
      "source": [
        "data = req.read()"
      ],
      "execution_count": 0,
      "outputs": []
    },
    {
      "cell_type": "code",
      "metadata": {
        "id": "KV43dtcc7LIR",
        "colab_type": "code",
        "colab": {}
      },
      "source": [
        "output = open(data,'wb')"
      ],
      "execution_count": 0,
      "outputs": []
    },
    {
      "cell_type": "code",
      "metadata": {
        "id": "lQ4xdkrG3qRX",
        "colab_type": "code",
        "colab": {}
      },
      "source": [
        "soup = BeautifulSoup(req.data, \"html.parser\")"
      ],
      "execution_count": 0,
      "outputs": []
    },
    {
      "cell_type": "code",
      "metadata": {
        "id": "sTzUWzh63tgF",
        "colab_type": "code",
        "colab": {}
      },
      "source": [
        "soup"
      ],
      "execution_count": 0,
      "outputs": []
    },
    {
      "cell_type": "code",
      "metadata": {
        "id": "LHVlOHhlyvLZ",
        "colab_type": "code",
        "colab": {}
      },
      "source": [
        "http = urllib3.PoolManager()"
      ],
      "execution_count": 0,
      "outputs": []
    },
    {
      "cell_type": "code",
      "metadata": {
        "id": "FkPNSonAMifd",
        "colab_type": "code",
        "colab": {}
      },
      "source": [
        "data = {\"L\":\"Município\",\n",
        "            \"C\":\"--Não-Ativa--\",\n",
        "            \"I\":\"Quantidade_existente\",\n",
        "            \"A\":\"lrbt2002.dbf\",#mes\n",
        "            \"F\":\"table\"\n",
        "             }"
      ],
      "execution_count": 0,
      "outputs": []
    },
    {
      "cell_type": "code",
      "metadata": {
        "id": "gFEono75Y74o",
        "colab_type": "code",
        "outputId": "fae43ce5-468f-4605-9a54-34434ac3bcbb",
        "colab": {
          "base_uri": "https://localhost:8080/",
          "height": 34
        }
      },
      "source": [
        "#data = {\"L\":\"Município\",\"C\":\"--Não-Ativa--\",\"I\":\"Quantidade_existente\",\"A\":\"lrbt2002.dbf\"}\n",
        "\n",
        "headers={\"Content-Type\":\"application/json\"}\n",
        "\n",
        "url = \"http://tabnet.datasus.gov.br/cgi/tabcgi.exe?cnes/cnv/leiintbr.def\"\n",
        "\n",
        "http = urllib3.PoolManager()\n",
        "req = http.request(\"POST\",url,fields=data,headers=headers)\n",
        "\n",
        "print(req.status)"
      ],
      "execution_count": 0,
      "outputs": [
        {
          "output_type": "stream",
          "text": [
            "200\n"
          ],
          "name": "stdout"
        }
      ]
    },
    {
      "cell_type": "code",
      "metadata": {
        "id": "BE_wqY0y5J0e",
        "colab_type": "code",
        "outputId": "34fee498-de7b-4fbf-bf76-37da4b6f9d6b",
        "colab": {
          "base_uri": "https://localhost:8080/",
          "height": 34
        }
      },
      "source": [
        "req.headers"
      ],
      "execution_count": 0,
      "outputs": [
        {
          "output_type": "execute_result",
          "data": {
            "text/plain": [
              "HTTPHeaderDict({'Content-Type': 'text/html', 'Server': 'Microsoft-IIS/8.5', 'Date': 'Fri, 27 Mar 2020 21:16:40 GMT', 'Connection': 'close', 'Content-Length': '1760'})"
            ]
          },
          "metadata": {
            "tags": []
          },
          "execution_count": 37
        }
      ]
    },
    {
      "cell_type": "code",
      "metadata": {
        "id": "cqgeTlSTpI_P",
        "colab_type": "code",
        "colab": {}
      },
      "source": [
        "print(help(req))"
      ],
      "execution_count": 0,
      "outputs": []
    },
    {
      "cell_type": "code",
      "metadata": {
        "id": "WLpFUnWpbcEj",
        "colab_type": "code",
        "colab": {}
      },
      "source": [
        "soup = BeautifulSoup(req.data, \"html.parser\")"
      ],
      "execution_count": 0,
      "outputs": []
    },
    {
      "cell_type": "code",
      "metadata": {
        "id": "MgXynCIcx5HB",
        "colab_type": "code",
        "outputId": "6b64991a-b489-4f2c-9e86-a835bd86929c",
        "colab": {
          "base_uri": "https://localhost:8080/",
          "height": 638
        }
      },
      "source": [
        "soup"
      ],
      "execution_count": 0,
      "outputs": [
        {
          "output_type": "execute_result",
          "data": {
            "text/plain": [
              "<!DOCTYPE HTML PUBLIC \"-//W3C//DTD HTML 4.01 Transitional//EN\" \"http://www.w3.org/TR/html4/loose.dtd\">\n",
              "\n",
              "<html lang=\"pt-BR\"><head>\n",
              "<meta content=\"text/html; charset=utf-8\" http-equiv=\"Content-Type\"/>\n",
              "<title>TabNet Win32 3.0: CNES - Recursos Físicos - Hospitalar - Leitos de internação - Brasil</title>\n",
              "<link href=\"/TABNET/tabnet2.css\" rel=\"stylesheet\" type=\"text/css\"/><!-- com a opção JCSS -->\n",
              "<link href=\"/tabnet/tabnetp2.css\" media=\"print\" rel=\"stylesheet\" type=\"text/css\"/><!-- com a opção JCSSP -->\n",
              "</head>\n",
              "<body>\n",
              "<div class=\"todalargura\" name=\"governo\">\n",
              "<div cellpadding=\"0\" cellspacing=\"0\" class=\"testeira\">\n",
              "<div class=\"Escondido\" style=\"background-color: #ffcc00;\">\n",
              "<div>\n",
              "<a href=\"http://www.saude.gov.br\" target=\"_blank\">\n",
              "<img alt=\"Ministério da Saúde\" height=\"21\" id=\"img1\" src=\"http://www.datasus.gov.br/gifs/principal_r1_c1_res.gif\"/>\n",
              "</a>\n",
              "</div>\n",
              "</div>\n",
              "<div cellpadding=\"0\" cellspacing=\"0\" class=\"testeira\">\n",
              "<div class=\"info_saude\">\n",
              "<a alt=\"Informações de Saúde\" href=\"/tabnet/tabnet.htm\" title=\"Informações de Saúde\">Informações de Saúde</a>\n",
              "</div>\n",
              "<div class=\"marca_tabnet\">\n",
              "<p>DATASUS<span>  Tecnologia da Informação a Serviço do SUS<a alt=\"MS/SE/Datasus\" href=\"http://www.datasus.gov.br\" title=\"MS/SE/Datasus\"></a></span></p>\n",
              "</div>\n",
              "<div class=\"ajuda\">\n",
              "<a href=\"/tabnet/tabdescr.htm\">Ajuda</a>\n",
              "</div>\n",
              "<div class=\"notific\">\n",
              "<a href=\"cnes/\\NT_RecursosFísicos.htm\">Notas Técnicas</a></div></div></div></div></body></html>\n",
              " <div class=\"datasus\">\n",
              "<p>DATASUS</p>\n",
              "</div>\n",
              "\n",
              ": Tabela de conversao nao encontrada"
            ]
          },
          "metadata": {
            "tags": []
          },
          "execution_count": 40
        }
      ]
    },
    {
      "cell_type": "code",
      "metadata": {
        "id": "tdN3G34ujeFG",
        "colab_type": "code",
        "colab": {}
      },
      "source": [
        "pag = soup.find(class_=\"tabdados\")"
      ],
      "execution_count": 0,
      "outputs": []
    },
    {
      "cell_type": "code",
      "metadata": {
        "id": "YC9uVDeArZ8l",
        "colab_type": "code",
        "colab": {}
      },
      "source": [
        "pag"
      ],
      "execution_count": 0,
      "outputs": []
    },
    {
      "cell_type": "code",
      "metadata": {
        "id": "w91fDUoIb0HD",
        "colab_type": "code",
        "colab": {}
      },
      "source": [
        "pag_str = str(pag)"
      ],
      "execution_count": 0,
      "outputs": []
    },
    {
      "cell_type": "code",
      "metadata": {
        "id": "uEPR_y48iZ-N",
        "colab_type": "code",
        "outputId": "5a1be320-2f34-47f4-88ae-3e4ae4f63825",
        "colab": {
          "base_uri": "https://localhost:8080/",
          "height": 34
        }
      },
      "source": [
        "pag_str"
      ],
      "execution_count": 0,
      "outputs": [
        {
          "output_type": "execute_result",
          "data": {
            "text/plain": [
              "'None'"
            ]
          },
          "metadata": {
            "tags": []
          },
          "execution_count": 34
        }
      ]
    },
    {
      "cell_type": "code",
      "metadata": {
        "id": "l9EFPkFCdVXY",
        "colab_type": "code",
        "colab": {}
      },
      "source": [
        "data = pd.read_html(pag_str)"
      ],
      "execution_count": 0,
      "outputs": []
    },
    {
      "cell_type": "code",
      "metadata": {
        "id": "ktcaCsOFyLfs",
        "colab_type": "code",
        "outputId": "112b1042-e585-4f21-8898-62bf4ee92cb6",
        "colab": {
          "base_uri": "https://localhost:8080/",
          "height": 52
        }
      },
      "source": [
        "data"
      ],
      "execution_count": 0,
      "outputs": [
        {
          "output_type": "execute_result",
          "data": {
            "text/plain": [
              "[    0                                           1\n",
              " 0 NaN  Veja a versão do Tab para Windows (TABWIN)]"
            ]
          },
          "metadata": {
            "tags": []
          },
          "execution_count": 163
        }
      ]
    },
    {
      "cell_type": "code",
      "metadata": {
        "id": "9jTYBclPWLjd",
        "colab_type": "code",
        "colab": {}
      },
      "source": [
        "url2 = \"www.google.com\"\n",
        "headers={\"Content-Type\":\"application/json\"}\n",
        "data2={\"q\":\"python\"}\n",
        "http2 = urllib3.PoolManager()\n",
        "req2 = http2.request(\"POST\",url2,fields=data2,headers=headers)"
      ],
      "execution_count": 0,
      "outputs": []
    },
    {
      "cell_type": "code",
      "metadata": {
        "id": "Ijs3XPEGX-ec",
        "colab_type": "code",
        "colab": {}
      },
      "source": [
        "soup = BeautifulSoup(req2.data, \"html.parser\")"
      ],
      "execution_count": 0,
      "outputs": []
    },
    {
      "cell_type": "code",
      "metadata": {
        "id": "8exLgxskZ8eH",
        "colab_type": "code",
        "outputId": "e06a3d8a-3f03-4ddb-8bb9-3bbadf3f5607",
        "colab": {
          "base_uri": "https://localhost:8080/",
          "height": 267
        }
      },
      "source": [
        "soup"
      ],
      "execution_count": 0,
      "outputs": [
        {
          "output_type": "execute_result",
          "data": {
            "text/plain": [
              "<!DOCTYPE html>\n",
              "\n",
              "<html lang=\"en\">\n",
              "<meta charset=\"utf-8\"/>\n",
              "<meta content=\"initial-scale=1, minimum-scale=1, width=device-width\" name=\"viewport\"/>\n",
              "<title>Error 405 (Method Not Allowed)!!1</title>\n",
              "<style>\n",
              "    *{margin:0;padding:0}html,code{font:15px/22px arial,sans-serif}html{background:#fff;color:#222;padding:15px}body{margin:7% auto 0;max-width:390px;min-height:180px;padding:30px 0 15px}* > body{background:url(//www.google.com/images/errors/robot.png) 100% 5px no-repeat;padding-right:205px}p{margin:11px 0 22px;overflow:hidden}ins{color:#777;text-decoration:none}a img{border:0}@media screen and (max-width:772px){body{background:none;margin-top:0;max-width:none;padding-right:0}}#logo{background:url(//www.google.com/images/branding/googlelogo/1x/googlelogo_color_150x54dp.png) no-repeat;margin-left:-5px}@media only screen and (min-resolution:192dpi){#logo{background:url(//www.google.com/images/branding/googlelogo/2x/googlelogo_color_150x54dp.png) no-repeat 0% 0%/100% 100%;-moz-border-image:url(//www.google.com/images/branding/googlelogo/2x/googlelogo_color_150x54dp.png) 0}}@media only screen and (-webkit-min-device-pixel-ratio:2){#logo{background:url(//www.google.com/images/branding/googlelogo/2x/googlelogo_color_150x54dp.png) no-repeat;-webkit-background-size:100% 100%}}#logo{display:inline-block;height:54px;width:150px}\n",
              "  </style>\n",
              "<a href=\"//www.google.com/\"><span aria-label=\"Google\" id=\"logo\"></span></a>\n",
              "<p><b>405.</b> <ins>That’s an error.</ins>\n",
              "<p>The request method <code>POST</code> is inappropriate for the URL <code>/</code>.  <ins>That’s all we know.</ins>\n",
              "</p></p></html>"
            ]
          },
          "metadata": {
            "tags": []
          },
          "execution_count": 16
        }
      ]
    },
    {
      "cell_type": "code",
      "metadata": {
        "id": "Jk7F5fwA8nwU",
        "colab_type": "code",
        "colab": {}
      },
      "source": [
        "# imported the requests library \n",
        "import requests \n",
        "image_url = \"https://www.python.org/static/community_logos/python-logo-master-v3-TM.png\"\n",
        "\n",
        "# URL of the image to be downloaded is defined as image_url \n",
        "r = requests.get(image_url) # create HTTP response object \n",
        "\n",
        "# send a HTTP request to the server and save \n",
        "# the HTTP response in a response object called r \n",
        "with open(\"python_logo.png\",'wb') as f: \n",
        "\n",
        "\t# Saving received content as a png file in \n",
        "\t# binary format \n",
        "\n",
        "\t# write the contents of the response (r.content) \n",
        "\t# to a new file in binary mode. \n",
        "\tf.write(r.content) \n"
      ],
      "execution_count": 0,
      "outputs": []
    },
    {
      "cell_type": "markdown",
      "metadata": {
        "id": "bTekzI1sgbWN",
        "colab_type": "text"
      },
      "source": [
        "###Download Zip archive"
      ]
    },
    {
      "cell_type": "code",
      "metadata": {
        "id": "d79VY4039NNI",
        "colab_type": "code",
        "colab": {
          "base_uri": "https://localhost:8080/",
          "height": 72
        },
        "outputId": "c5120095-3f4d-499c-d768-9f470f9a7ab2"
      },
      "source": [
        "import urllib3\n",
        "\n",
        "#request\n",
        "http = urllib3.PoolManager()\n",
        "url = \"https://data.brasil.io/dataset/covid19/caso.csv.gz\"\n",
        "req = http.request(\"GET\",url)\n",
        "\n",
        "#download archive \n",
        "#with open(\"cases_brazil.gz\",\"wb\") as f: \n",
        "\t  #f.write(req.data) \n",
        "#f.close()   "
      ],
      "execution_count": 19,
      "outputs": [
        {
          "output_type": "stream",
          "text": [
            "/usr/local/lib/python3.6/dist-packages/urllib3/connectionpool.py:847: InsecureRequestWarning: Unverified HTTPS request is being made. Adding certificate verification is strongly advised. See: https://urllib3.readthedocs.io/en/latest/advanced-usage.html#ssl-warnings\n",
            "  InsecureRequestWarning)\n"
          ],
          "name": "stderr"
        }
      ]
    },
    {
      "cell_type": "code",
      "metadata": {
        "id": "WEAqUknNLlS2",
        "colab_type": "code",
        "colab": {}
      },
      "source": [
        "with gzip.open(\"cases_brazil.gz\", 'rb') as f:\n",
        "    data = f.read()"
      ],
      "execution_count": 0,
      "outputs": []
    }
  ]
}