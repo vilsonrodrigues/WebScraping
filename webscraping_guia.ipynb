{
  "nbformat": 4,
  "nbformat_minor": 0,
  "metadata": {
    "colab": {
      "name": "webscraping-guia.ipynb",
      "provenance": [],
      "authorship_tag": "ABX9TyMpSz61J9AoAaNRCynb4cpx",
      "include_colab_link": true
    },
    "kernelspec": {
      "name": "python3",
      "display_name": "Python 3"
    }
  },
  "cells": [
    {
      "cell_type": "markdown",
      "metadata": {
        "id": "view-in-github",
        "colab_type": "text"
      },
      "source": [
        "<a href=\"https://colab.research.google.com/github/vilsonrodrigues/WebScraping/blob/master/webscraping_guia.ipynb\" target=\"_parent\"><img src=\"https://colab.research.google.com/assets/colab-badge.svg\" alt=\"Open In Colab\"/></a>"
      ]
    },
    {
      "cell_type": "markdown",
      "metadata": {
        "id": "n0MIkRbt0z8J",
        "colab_type": "text"
      },
      "source": [
        "**Libs**"
      ]
    },
    {
      "cell_type": "code",
      "metadata": {
        "id": "-Q01OY3llV40",
        "colab_type": "code",
        "colab": {}
      },
      "source": [
        "import requests\n",
        "from bs4 import BeautifulSoup #extrai os dados do html\n",
        "import pandas as pd"
      ],
      "execution_count": 0,
      "outputs": []
    },
    {
      "cell_type": "markdown",
      "metadata": {
        "id": "3DgySw0m3EXJ",
        "colab_type": "text"
      },
      "source": [
        "###Realizando requisição de 1 tabela"
      ]
    },
    {
      "cell_type": "code",
      "metadata": {
        "id": "WrwKCz2cp6yO",
        "colab_type": "code",
        "colab": {}
      },
      "source": [
        "req = requests.get(\"https://www.basketball-reference.com/leagues/NBA_2018_totals.html\")"
      ],
      "execution_count": 0,
      "outputs": []
    },
    {
      "cell_type": "markdown",
      "metadata": {
        "id": "KqQBlvR-qL-N",
        "colab_type": "text"
      },
      "source": [
        "Se requisição bem sucessidada"
      ]
    },
    {
      "cell_type": "code",
      "metadata": {
        "id": "1ZH6K9fAqJMa",
        "colab_type": "code",
        "colab": {
          "base_uri": "https://localhost:8080/",
          "height": 34
        },
        "outputId": "75788b2d-6666-4e28-b3e7-d3ab6eacf4dd"
      },
      "source": [
        "if req.status_code == 200:\n",
        "    print(\"Sucess\")\n",
        "    content = req.content"
      ],
      "execution_count": 5,
      "outputs": [
        {
          "output_type": "stream",
          "text": [
            "Sucess\n"
          ],
          "name": "stdout"
        }
      ]
    },
    {
      "cell_type": "markdown",
      "metadata": {
        "id": "UTDQwF5krUnS",
        "colab_type": "text"
      },
      "source": [
        "Utilizo BeatifulSoup para extrair a tabela"
      ]
    },
    {
      "cell_type": "code",
      "metadata": {
        "id": "r7f_AH6EqO8-",
        "colab_type": "code",
        "colab": {}
      },
      "source": [
        "soup = BeautifulSoup(content, \"html.parser\")\n",
        "table = soup.find(name=\"table\")#arquivo esta dentro de uma table, usa o find pra procurar a table"
      ],
      "execution_count": 0,
      "outputs": []
    },
    {
      "cell_type": "markdown",
      "metadata": {
        "id": "drGzf0tR2LCo",
        "colab_type": "text"
      },
      "source": [
        "Converto pra String pois o obj é do tipo BS"
      ]
    },
    {
      "cell_type": "code",
      "metadata": {
        "id": "Y6VdfjMJ0_Mg",
        "colab_type": "code",
        "colab": {}
      },
      "source": [
        "table_str = str(table)"
      ],
      "execution_count": 0,
      "outputs": []
    },
    {
      "cell_type": "markdown",
      "metadata": {
        "id": "jv9nnaRE2gqa",
        "colab_type": "text"
      },
      "source": [
        "Transformo em DF lendo como de uma estrutura HTML. Acesso a posição 0 pra obter o dataframe, pois retornaria uma lista"
      ]
    },
    {
      "cell_type": "code",
      "metadata": {
        "id": "XBvzgeJV09az",
        "colab_type": "code",
        "colab": {}
      },
      "source": [
        "df = pd.read_html(table_str)[0]"
      ],
      "execution_count": 0,
      "outputs": []
    },
    {
      "cell_type": "markdown",
      "metadata": {
        "id": "m0C3PS5C2yj2",
        "colab_type": "text"
      },
      "source": [
        "E aqui está, uma raspagem dos dados de jogadores da NBA"
      ]
    },
    {
      "cell_type": "code",
      "metadata": {
        "id": "i9_L0kql11Zm",
        "colab_type": "code",
        "colab": {
          "base_uri": "https://localhost:8080/",
          "height": 406
        },
        "outputId": "de91a1f8-ac1a-46ba-9670-2e02d86cd69c"
      },
      "source": [
        "df"
      ],
      "execution_count": 13,
      "outputs": [
        {
          "output_type": "execute_result",
          "data": {
            "text/html": [
              "<div>\n",
              "<style scoped>\n",
              "    .dataframe tbody tr th:only-of-type {\n",
              "        vertical-align: middle;\n",
              "    }\n",
              "\n",
              "    .dataframe tbody tr th {\n",
              "        vertical-align: top;\n",
              "    }\n",
              "\n",
              "    .dataframe thead th {\n",
              "        text-align: right;\n",
              "    }\n",
              "</style>\n",
              "<table border=\"1\" class=\"dataframe\">\n",
              "  <thead>\n",
              "    <tr style=\"text-align: right;\">\n",
              "      <th></th>\n",
              "      <th>Rk</th>\n",
              "      <th>Player</th>\n",
              "      <th>Pos</th>\n",
              "      <th>Age</th>\n",
              "      <th>Tm</th>\n",
              "      <th>G</th>\n",
              "      <th>GS</th>\n",
              "      <th>MP</th>\n",
              "      <th>FG</th>\n",
              "      <th>FGA</th>\n",
              "      <th>FG%</th>\n",
              "      <th>3P</th>\n",
              "      <th>3PA</th>\n",
              "      <th>3P%</th>\n",
              "      <th>2P</th>\n",
              "      <th>2PA</th>\n",
              "      <th>2P%</th>\n",
              "      <th>eFG%</th>\n",
              "      <th>FT</th>\n",
              "      <th>FTA</th>\n",
              "      <th>FT%</th>\n",
              "      <th>ORB</th>\n",
              "      <th>DRB</th>\n",
              "      <th>TRB</th>\n",
              "      <th>AST</th>\n",
              "      <th>STL</th>\n",
              "      <th>BLK</th>\n",
              "      <th>TOV</th>\n",
              "      <th>PF</th>\n",
              "      <th>PTS</th>\n",
              "    </tr>\n",
              "  </thead>\n",
              "  <tbody>\n",
              "    <tr>\n",
              "      <th>0</th>\n",
              "      <td>1</td>\n",
              "      <td>Álex Abrines</td>\n",
              "      <td>SG</td>\n",
              "      <td>24</td>\n",
              "      <td>OKC</td>\n",
              "      <td>75</td>\n",
              "      <td>8</td>\n",
              "      <td>1134</td>\n",
              "      <td>115</td>\n",
              "      <td>291</td>\n",
              "      <td>.395</td>\n",
              "      <td>84</td>\n",
              "      <td>221</td>\n",
              "      <td>.380</td>\n",
              "      <td>31</td>\n",
              "      <td>70</td>\n",
              "      <td>.443</td>\n",
              "      <td>.540</td>\n",
              "      <td>39</td>\n",
              "      <td>46</td>\n",
              "      <td>.848</td>\n",
              "      <td>26</td>\n",
              "      <td>88</td>\n",
              "      <td>114</td>\n",
              "      <td>28</td>\n",
              "      <td>38</td>\n",
              "      <td>8</td>\n",
              "      <td>25</td>\n",
              "      <td>124</td>\n",
              "      <td>353</td>\n",
              "    </tr>\n",
              "    <tr>\n",
              "      <th>1</th>\n",
              "      <td>2</td>\n",
              "      <td>Quincy Acy</td>\n",
              "      <td>PF</td>\n",
              "      <td>27</td>\n",
              "      <td>BRK</td>\n",
              "      <td>70</td>\n",
              "      <td>8</td>\n",
              "      <td>1359</td>\n",
              "      <td>130</td>\n",
              "      <td>365</td>\n",
              "      <td>.356</td>\n",
              "      <td>102</td>\n",
              "      <td>292</td>\n",
              "      <td>.349</td>\n",
              "      <td>28</td>\n",
              "      <td>73</td>\n",
              "      <td>.384</td>\n",
              "      <td>.496</td>\n",
              "      <td>49</td>\n",
              "      <td>60</td>\n",
              "      <td>.817</td>\n",
              "      <td>40</td>\n",
              "      <td>217</td>\n",
              "      <td>257</td>\n",
              "      <td>57</td>\n",
              "      <td>33</td>\n",
              "      <td>29</td>\n",
              "      <td>60</td>\n",
              "      <td>149</td>\n",
              "      <td>411</td>\n",
              "    </tr>\n",
              "    <tr>\n",
              "      <th>2</th>\n",
              "      <td>3</td>\n",
              "      <td>Steven Adams</td>\n",
              "      <td>C</td>\n",
              "      <td>24</td>\n",
              "      <td>OKC</td>\n",
              "      <td>76</td>\n",
              "      <td>76</td>\n",
              "      <td>2487</td>\n",
              "      <td>448</td>\n",
              "      <td>712</td>\n",
              "      <td>.629</td>\n",
              "      <td>0</td>\n",
              "      <td>2</td>\n",
              "      <td>.000</td>\n",
              "      <td>448</td>\n",
              "      <td>710</td>\n",
              "      <td>.631</td>\n",
              "      <td>.629</td>\n",
              "      <td>160</td>\n",
              "      <td>286</td>\n",
              "      <td>.559</td>\n",
              "      <td>384</td>\n",
              "      <td>301</td>\n",
              "      <td>685</td>\n",
              "      <td>88</td>\n",
              "      <td>92</td>\n",
              "      <td>78</td>\n",
              "      <td>128</td>\n",
              "      <td>215</td>\n",
              "      <td>1056</td>\n",
              "    </tr>\n",
              "    <tr>\n",
              "      <th>3</th>\n",
              "      <td>4</td>\n",
              "      <td>Bam Adebayo</td>\n",
              "      <td>C</td>\n",
              "      <td>20</td>\n",
              "      <td>MIA</td>\n",
              "      <td>69</td>\n",
              "      <td>19</td>\n",
              "      <td>1368</td>\n",
              "      <td>174</td>\n",
              "      <td>340</td>\n",
              "      <td>.512</td>\n",
              "      <td>0</td>\n",
              "      <td>7</td>\n",
              "      <td>.000</td>\n",
              "      <td>174</td>\n",
              "      <td>333</td>\n",
              "      <td>.523</td>\n",
              "      <td>.512</td>\n",
              "      <td>129</td>\n",
              "      <td>179</td>\n",
              "      <td>.721</td>\n",
              "      <td>118</td>\n",
              "      <td>263</td>\n",
              "      <td>381</td>\n",
              "      <td>101</td>\n",
              "      <td>32</td>\n",
              "      <td>41</td>\n",
              "      <td>66</td>\n",
              "      <td>138</td>\n",
              "      <td>477</td>\n",
              "    </tr>\n",
              "    <tr>\n",
              "      <th>4</th>\n",
              "      <td>5</td>\n",
              "      <td>Arron Afflalo</td>\n",
              "      <td>SG</td>\n",
              "      <td>32</td>\n",
              "      <td>ORL</td>\n",
              "      <td>53</td>\n",
              "      <td>3</td>\n",
              "      <td>682</td>\n",
              "      <td>65</td>\n",
              "      <td>162</td>\n",
              "      <td>.401</td>\n",
              "      <td>27</td>\n",
              "      <td>70</td>\n",
              "      <td>.386</td>\n",
              "      <td>38</td>\n",
              "      <td>92</td>\n",
              "      <td>.413</td>\n",
              "      <td>.485</td>\n",
              "      <td>22</td>\n",
              "      <td>26</td>\n",
              "      <td>.846</td>\n",
              "      <td>4</td>\n",
              "      <td>62</td>\n",
              "      <td>66</td>\n",
              "      <td>30</td>\n",
              "      <td>4</td>\n",
              "      <td>9</td>\n",
              "      <td>21</td>\n",
              "      <td>56</td>\n",
              "      <td>179</td>\n",
              "    </tr>\n",
              "    <tr>\n",
              "      <th>...</th>\n",
              "      <td>...</td>\n",
              "      <td>...</td>\n",
              "      <td>...</td>\n",
              "      <td>...</td>\n",
              "      <td>...</td>\n",
              "      <td>...</td>\n",
              "      <td>...</td>\n",
              "      <td>...</td>\n",
              "      <td>...</td>\n",
              "      <td>...</td>\n",
              "      <td>...</td>\n",
              "      <td>...</td>\n",
              "      <td>...</td>\n",
              "      <td>...</td>\n",
              "      <td>...</td>\n",
              "      <td>...</td>\n",
              "      <td>...</td>\n",
              "      <td>...</td>\n",
              "      <td>...</td>\n",
              "      <td>...</td>\n",
              "      <td>...</td>\n",
              "      <td>...</td>\n",
              "      <td>...</td>\n",
              "      <td>...</td>\n",
              "      <td>...</td>\n",
              "      <td>...</td>\n",
              "      <td>...</td>\n",
              "      <td>...</td>\n",
              "      <td>...</td>\n",
              "      <td>...</td>\n",
              "    </tr>\n",
              "    <tr>\n",
              "      <th>685</th>\n",
              "      <td>537</td>\n",
              "      <td>Tyler Zeller</td>\n",
              "      <td>C</td>\n",
              "      <td>28</td>\n",
              "      <td>BRK</td>\n",
              "      <td>42</td>\n",
              "      <td>33</td>\n",
              "      <td>703</td>\n",
              "      <td>125</td>\n",
              "      <td>229</td>\n",
              "      <td>.546</td>\n",
              "      <td>10</td>\n",
              "      <td>26</td>\n",
              "      <td>.385</td>\n",
              "      <td>115</td>\n",
              "      <td>203</td>\n",
              "      <td>.567</td>\n",
              "      <td>.568</td>\n",
              "      <td>40</td>\n",
              "      <td>60</td>\n",
              "      <td>.667</td>\n",
              "      <td>63</td>\n",
              "      <td>131</td>\n",
              "      <td>194</td>\n",
              "      <td>28</td>\n",
              "      <td>8</td>\n",
              "      <td>21</td>\n",
              "      <td>35</td>\n",
              "      <td>78</td>\n",
              "      <td>300</td>\n",
              "    </tr>\n",
              "    <tr>\n",
              "      <th>686</th>\n",
              "      <td>537</td>\n",
              "      <td>Tyler Zeller</td>\n",
              "      <td>C</td>\n",
              "      <td>28</td>\n",
              "      <td>MIL</td>\n",
              "      <td>24</td>\n",
              "      <td>1</td>\n",
              "      <td>406</td>\n",
              "      <td>62</td>\n",
              "      <td>105</td>\n",
              "      <td>.590</td>\n",
              "      <td>0</td>\n",
              "      <td>2</td>\n",
              "      <td>.000</td>\n",
              "      <td>62</td>\n",
              "      <td>103</td>\n",
              "      <td>.602</td>\n",
              "      <td>.590</td>\n",
              "      <td>17</td>\n",
              "      <td>19</td>\n",
              "      <td>.895</td>\n",
              "      <td>47</td>\n",
              "      <td>64</td>\n",
              "      <td>111</td>\n",
              "      <td>19</td>\n",
              "      <td>7</td>\n",
              "      <td>14</td>\n",
              "      <td>12</td>\n",
              "      <td>48</td>\n",
              "      <td>141</td>\n",
              "    </tr>\n",
              "    <tr>\n",
              "      <th>687</th>\n",
              "      <td>538</td>\n",
              "      <td>Paul Zipser</td>\n",
              "      <td>SF</td>\n",
              "      <td>23</td>\n",
              "      <td>CHI</td>\n",
              "      <td>54</td>\n",
              "      <td>12</td>\n",
              "      <td>824</td>\n",
              "      <td>81</td>\n",
              "      <td>234</td>\n",
              "      <td>.346</td>\n",
              "      <td>37</td>\n",
              "      <td>110</td>\n",
              "      <td>.336</td>\n",
              "      <td>44</td>\n",
              "      <td>124</td>\n",
              "      <td>.355</td>\n",
              "      <td>.425</td>\n",
              "      <td>19</td>\n",
              "      <td>25</td>\n",
              "      <td>.760</td>\n",
              "      <td>13</td>\n",
              "      <td>118</td>\n",
              "      <td>131</td>\n",
              "      <td>46</td>\n",
              "      <td>20</td>\n",
              "      <td>15</td>\n",
              "      <td>43</td>\n",
              "      <td>86</td>\n",
              "      <td>218</td>\n",
              "    </tr>\n",
              "    <tr>\n",
              "      <th>688</th>\n",
              "      <td>539</td>\n",
              "      <td>Ante Žižić</td>\n",
              "      <td>C</td>\n",
              "      <td>21</td>\n",
              "      <td>CLE</td>\n",
              "      <td>32</td>\n",
              "      <td>2</td>\n",
              "      <td>214</td>\n",
              "      <td>49</td>\n",
              "      <td>67</td>\n",
              "      <td>.731</td>\n",
              "      <td>0</td>\n",
              "      <td>0</td>\n",
              "      <td>NaN</td>\n",
              "      <td>49</td>\n",
              "      <td>67</td>\n",
              "      <td>.731</td>\n",
              "      <td>.731</td>\n",
              "      <td>21</td>\n",
              "      <td>29</td>\n",
              "      <td>.724</td>\n",
              "      <td>24</td>\n",
              "      <td>36</td>\n",
              "      <td>60</td>\n",
              "      <td>5</td>\n",
              "      <td>2</td>\n",
              "      <td>13</td>\n",
              "      <td>11</td>\n",
              "      <td>30</td>\n",
              "      <td>119</td>\n",
              "    </tr>\n",
              "    <tr>\n",
              "      <th>689</th>\n",
              "      <td>540</td>\n",
              "      <td>Ivica Zubac</td>\n",
              "      <td>C</td>\n",
              "      <td>20</td>\n",
              "      <td>LAL</td>\n",
              "      <td>43</td>\n",
              "      <td>0</td>\n",
              "      <td>410</td>\n",
              "      <td>61</td>\n",
              "      <td>122</td>\n",
              "      <td>.500</td>\n",
              "      <td>0</td>\n",
              "      <td>1</td>\n",
              "      <td>.000</td>\n",
              "      <td>61</td>\n",
              "      <td>121</td>\n",
              "      <td>.504</td>\n",
              "      <td>.500</td>\n",
              "      <td>39</td>\n",
              "      <td>51</td>\n",
              "      <td>.765</td>\n",
              "      <td>45</td>\n",
              "      <td>78</td>\n",
              "      <td>123</td>\n",
              "      <td>25</td>\n",
              "      <td>8</td>\n",
              "      <td>15</td>\n",
              "      <td>26</td>\n",
              "      <td>47</td>\n",
              "      <td>161</td>\n",
              "    </tr>\n",
              "  </tbody>\n",
              "</table>\n",
              "<p>690 rows × 30 columns</p>\n",
              "</div>"
            ],
            "text/plain": [
              "      Rk         Player Pos Age   Tm   G  GS  ...  TRB  AST STL BLK  TOV   PF   PTS\n",
              "0      1   Álex Abrines  SG  24  OKC  75   8  ...  114   28  38   8   25  124   353\n",
              "1      2     Quincy Acy  PF  27  BRK  70   8  ...  257   57  33  29   60  149   411\n",
              "2      3   Steven Adams   C  24  OKC  76  76  ...  685   88  92  78  128  215  1056\n",
              "3      4    Bam Adebayo   C  20  MIA  69  19  ...  381  101  32  41   66  138   477\n",
              "4      5  Arron Afflalo  SG  32  ORL  53   3  ...   66   30   4   9   21   56   179\n",
              "..   ...            ...  ..  ..  ...  ..  ..  ...  ...  ...  ..  ..  ...  ...   ...\n",
              "685  537   Tyler Zeller   C  28  BRK  42  33  ...  194   28   8  21   35   78   300\n",
              "686  537   Tyler Zeller   C  28  MIL  24   1  ...  111   19   7  14   12   48   141\n",
              "687  538    Paul Zipser  SF  23  CHI  54  12  ...  131   46  20  15   43   86   218\n",
              "688  539     Ante Žižić   C  21  CLE  32   2  ...   60    5   2  13   11   30   119\n",
              "689  540    Ivica Zubac   C  20  LAL  43   0  ...  123   25   8  15   26   47   161\n",
              "\n",
              "[690 rows x 30 columns]"
            ]
          },
          "metadata": {
            "tags": []
          },
          "execution_count": 13
        }
      ]
    },
    {
      "cell_type": "code",
      "metadata": {
        "id": "UU31QUji25Yr",
        "colab_type": "code",
        "colab": {
          "base_uri": "https://localhost:8080/",
          "height": 638
        },
        "outputId": "0de316dd-1569-4a13-9f09-730ff701ece6"
      },
      "source": [
        "df.info()"
      ],
      "execution_count": 14,
      "outputs": [
        {
          "output_type": "stream",
          "text": [
            "<class 'pandas.core.frame.DataFrame'>\n",
            "RangeIndex: 690 entries, 0 to 689\n",
            "Data columns (total 30 columns):\n",
            "Rk        690 non-null object\n",
            "Player    690 non-null object\n",
            "Pos       690 non-null object\n",
            "Age       690 non-null object\n",
            "Tm        690 non-null object\n",
            "G         690 non-null object\n",
            "GS        690 non-null object\n",
            "MP        690 non-null object\n",
            "FG        690 non-null object\n",
            "FGA       690 non-null object\n",
            "FG%       686 non-null object\n",
            "3P        690 non-null object\n",
            "3PA       690 non-null object\n",
            "3P%       625 non-null object\n",
            "2P        690 non-null object\n",
            "2PA       690 non-null object\n",
            "2P%       672 non-null object\n",
            "eFG%      686 non-null object\n",
            "FT        690 non-null object\n",
            "FTA       690 non-null object\n",
            "FT%       632 non-null object\n",
            "ORB       690 non-null object\n",
            "DRB       690 non-null object\n",
            "TRB       690 non-null object\n",
            "AST       690 non-null object\n",
            "STL       690 non-null object\n",
            "BLK       690 non-null object\n",
            "TOV       690 non-null object\n",
            "PF        690 non-null object\n",
            "PTS       690 non-null object\n",
            "dtypes: object(30)\n",
            "memory usage: 161.8+ KB\n"
          ],
          "name": "stdout"
        }
      ]
    },
    {
      "cell_type": "markdown",
      "metadata": {
        "id": "5B-QtV7i3NP9",
        "colab_type": "text"
      },
      "source": [
        "###Requisição de mais +1 tabela"
      ]
    },
    {
      "cell_type": "markdown",
      "metadata": {
        "id": "InoiDscX313q",
        "colab_type": "text"
      },
      "source": [
        "Nesse caso eu tenho duas opções:\n",
        "\n",
        "buscar tudo e depois verificar a posição da tabela com o **find_all**; ou\n",
        "\n",
        "usar o método **attrs** para buscar um elemento obrigatório\n",
        "\n"
      ]
    },
    {
      "cell_type": "code",
      "metadata": {
        "id": "jUNLFI963L40",
        "colab_type": "code",
        "colab": {}
      },
      "source": [
        "req = requests.get(\"https://www.basketball-reference.com/leagues/NBA_2018_standings.html\")\n",
        "if req.status_code == 200:\n",
        "    content = req.content"
      ],
      "execution_count": 0,
      "outputs": []
    },
    {
      "cell_type": "code",
      "metadata": {
        "id": "-aCNJ-VZCOxe",
        "colab_type": "code",
        "colab": {}
      },
      "source": [
        "soup = BeautifulSoup(content, \"html.parser\")\n",
        "table = soup.find(name=\"table\", attrs = {\"id\":\"confs_standings_W\"})"
      ],
      "execution_count": 0,
      "outputs": []
    },
    {
      "cell_type": "code",
      "metadata": {
        "id": "5z-a9Sj5C2rx",
        "colab_type": "code",
        "colab": {}
      },
      "source": [
        "table_str = str(table)"
      ],
      "execution_count": 0,
      "outputs": []
    },
    {
      "cell_type": "code",
      "metadata": {
        "id": "606g-1CyC0Lp",
        "colab_type": "code",
        "colab": {}
      },
      "source": [
        "data = pd.read_html(table_str)[0]"
      ],
      "execution_count": 0,
      "outputs": []
    },
    {
      "cell_type": "code",
      "metadata": {
        "id": "Isb47MLHClRC",
        "colab_type": "code",
        "colab": {
          "base_uri": "https://localhost:8080/",
          "height": 497
        },
        "outputId": "cc2def64-e641-425d-b7d1-28035fd43d8e"
      },
      "source": [
        "data"
      ],
      "execution_count": 13,
      "outputs": [
        {
          "output_type": "execute_result",
          "data": {
            "text/html": [
              "<div>\n",
              "<style scoped>\n",
              "    .dataframe tbody tr th:only-of-type {\n",
              "        vertical-align: middle;\n",
              "    }\n",
              "\n",
              "    .dataframe tbody tr th {\n",
              "        vertical-align: top;\n",
              "    }\n",
              "\n",
              "    .dataframe thead th {\n",
              "        text-align: right;\n",
              "    }\n",
              "</style>\n",
              "<table border=\"1\" class=\"dataframe\">\n",
              "  <thead>\n",
              "    <tr style=\"text-align: right;\">\n",
              "      <th></th>\n",
              "      <th>Western Conference</th>\n",
              "      <th>W</th>\n",
              "      <th>L</th>\n",
              "      <th>W/L%</th>\n",
              "      <th>GB</th>\n",
              "      <th>PS/G</th>\n",
              "      <th>PA/G</th>\n",
              "      <th>SRS</th>\n",
              "    </tr>\n",
              "  </thead>\n",
              "  <tbody>\n",
              "    <tr>\n",
              "      <th>0</th>\n",
              "      <td>Houston Rockets* (1)</td>\n",
              "      <td>65</td>\n",
              "      <td>17</td>\n",
              "      <td>0.793</td>\n",
              "      <td>—</td>\n",
              "      <td>112.4</td>\n",
              "      <td>103.9</td>\n",
              "      <td>8.21</td>\n",
              "    </tr>\n",
              "    <tr>\n",
              "      <th>1</th>\n",
              "      <td>Golden State Warriors* (2)</td>\n",
              "      <td>58</td>\n",
              "      <td>24</td>\n",
              "      <td>0.707</td>\n",
              "      <td>7.0</td>\n",
              "      <td>113.5</td>\n",
              "      <td>107.5</td>\n",
              "      <td>5.79</td>\n",
              "    </tr>\n",
              "    <tr>\n",
              "      <th>2</th>\n",
              "      <td>Portland Trail Blazers* (3)</td>\n",
              "      <td>49</td>\n",
              "      <td>33</td>\n",
              "      <td>0.598</td>\n",
              "      <td>16.0</td>\n",
              "      <td>105.6</td>\n",
              "      <td>103.0</td>\n",
              "      <td>2.60</td>\n",
              "    </tr>\n",
              "    <tr>\n",
              "      <th>3</th>\n",
              "      <td>Oklahoma City Thunder* (4)</td>\n",
              "      <td>48</td>\n",
              "      <td>34</td>\n",
              "      <td>0.585</td>\n",
              "      <td>17.0</td>\n",
              "      <td>107.9</td>\n",
              "      <td>104.4</td>\n",
              "      <td>3.42</td>\n",
              "    </tr>\n",
              "    <tr>\n",
              "      <th>4</th>\n",
              "      <td>Utah Jazz* (5)</td>\n",
              "      <td>48</td>\n",
              "      <td>34</td>\n",
              "      <td>0.585</td>\n",
              "      <td>17.0</td>\n",
              "      <td>104.1</td>\n",
              "      <td>99.8</td>\n",
              "      <td>4.47</td>\n",
              "    </tr>\n",
              "    <tr>\n",
              "      <th>5</th>\n",
              "      <td>New Orleans Pelicans* (6)</td>\n",
              "      <td>48</td>\n",
              "      <td>34</td>\n",
              "      <td>0.585</td>\n",
              "      <td>17.0</td>\n",
              "      <td>111.7</td>\n",
              "      <td>110.4</td>\n",
              "      <td>1.48</td>\n",
              "    </tr>\n",
              "    <tr>\n",
              "      <th>6</th>\n",
              "      <td>San Antonio Spurs* (7)</td>\n",
              "      <td>47</td>\n",
              "      <td>35</td>\n",
              "      <td>0.573</td>\n",
              "      <td>18.0</td>\n",
              "      <td>102.7</td>\n",
              "      <td>99.8</td>\n",
              "      <td>2.89</td>\n",
              "    </tr>\n",
              "    <tr>\n",
              "      <th>7</th>\n",
              "      <td>Minnesota Timberwolves* (8)</td>\n",
              "      <td>47</td>\n",
              "      <td>35</td>\n",
              "      <td>0.573</td>\n",
              "      <td>18.0</td>\n",
              "      <td>109.5</td>\n",
              "      <td>107.3</td>\n",
              "      <td>2.35</td>\n",
              "    </tr>\n",
              "    <tr>\n",
              "      <th>8</th>\n",
              "      <td>Denver Nuggets (9)</td>\n",
              "      <td>46</td>\n",
              "      <td>36</td>\n",
              "      <td>0.561</td>\n",
              "      <td>19.0</td>\n",
              "      <td>110.0</td>\n",
              "      <td>108.5</td>\n",
              "      <td>1.57</td>\n",
              "    </tr>\n",
              "    <tr>\n",
              "      <th>9</th>\n",
              "      <td>Los Angeles Clippers (10)</td>\n",
              "      <td>42</td>\n",
              "      <td>40</td>\n",
              "      <td>0.512</td>\n",
              "      <td>23.0</td>\n",
              "      <td>109.0</td>\n",
              "      <td>109.0</td>\n",
              "      <td>0.15</td>\n",
              "    </tr>\n",
              "    <tr>\n",
              "      <th>10</th>\n",
              "      <td>Los Angeles Lakers (11)</td>\n",
              "      <td>35</td>\n",
              "      <td>47</td>\n",
              "      <td>0.427</td>\n",
              "      <td>30.0</td>\n",
              "      <td>108.1</td>\n",
              "      <td>109.6</td>\n",
              "      <td>-1.44</td>\n",
              "    </tr>\n",
              "    <tr>\n",
              "      <th>11</th>\n",
              "      <td>Sacramento Kings (12)</td>\n",
              "      <td>27</td>\n",
              "      <td>55</td>\n",
              "      <td>0.329</td>\n",
              "      <td>38.0</td>\n",
              "      <td>98.8</td>\n",
              "      <td>105.8</td>\n",
              "      <td>-6.60</td>\n",
              "    </tr>\n",
              "    <tr>\n",
              "      <th>12</th>\n",
              "      <td>Dallas Mavericks (13)</td>\n",
              "      <td>24</td>\n",
              "      <td>58</td>\n",
              "      <td>0.293</td>\n",
              "      <td>41.0</td>\n",
              "      <td>102.3</td>\n",
              "      <td>105.4</td>\n",
              "      <td>-2.70</td>\n",
              "    </tr>\n",
              "    <tr>\n",
              "      <th>13</th>\n",
              "      <td>Memphis Grizzlies (14)</td>\n",
              "      <td>22</td>\n",
              "      <td>60</td>\n",
              "      <td>0.268</td>\n",
              "      <td>43.0</td>\n",
              "      <td>99.3</td>\n",
              "      <td>105.5</td>\n",
              "      <td>-5.81</td>\n",
              "    </tr>\n",
              "    <tr>\n",
              "      <th>14</th>\n",
              "      <td>Phoenix Suns (15)</td>\n",
              "      <td>21</td>\n",
              "      <td>61</td>\n",
              "      <td>0.256</td>\n",
              "      <td>44.0</td>\n",
              "      <td>103.9</td>\n",
              "      <td>113.3</td>\n",
              "      <td>-8.80</td>\n",
              "    </tr>\n",
              "  </tbody>\n",
              "</table>\n",
              "</div>"
            ],
            "text/plain": [
              "             Western Conference   W   L   W/L%    GB   PS/G   PA/G   SRS\n",
              "0          Houston Rockets* (1)  65  17  0.793     —  112.4  103.9  8.21\n",
              "1    Golden State Warriors* (2)  58  24  0.707   7.0  113.5  107.5  5.79\n",
              "2   Portland Trail Blazers* (3)  49  33  0.598  16.0  105.6  103.0  2.60\n",
              "3    Oklahoma City Thunder* (4)  48  34  0.585  17.0  107.9  104.4  3.42\n",
              "4                Utah Jazz* (5)  48  34  0.585  17.0  104.1   99.8  4.47\n",
              "5     New Orleans Pelicans* (6)  48  34  0.585  17.0  111.7  110.4  1.48\n",
              "6        San Antonio Spurs* (7)  47  35  0.573  18.0  102.7   99.8  2.89\n",
              "7   Minnesota Timberwolves* (8)  47  35  0.573  18.0  109.5  107.3  2.35\n",
              "8            Denver Nuggets (9)  46  36  0.561  19.0  110.0  108.5  1.57\n",
              "9     Los Angeles Clippers (10)  42  40  0.512  23.0  109.0  109.0  0.15\n",
              "10      Los Angeles Lakers (11)  35  47  0.427  30.0  108.1  109.6 -1.44\n",
              "11        Sacramento Kings (12)  27  55  0.329  38.0   98.8  105.8 -6.60\n",
              "12        Dallas Mavericks (13)  24  58  0.293  41.0  102.3  105.4 -2.70\n",
              "13       Memphis Grizzlies (14)  22  60  0.268  43.0   99.3  105.5 -5.81\n",
              "14            Phoenix Suns (15)  21  61  0.256  44.0  103.9  113.3 -8.80"
            ]
          },
          "metadata": {
            "tags": []
          },
          "execution_count": 13
        }
      ]
    },
    {
      "cell_type": "markdown",
      "metadata": {
        "id": "dfKYiNR4DNuI",
        "colab_type": "text"
      },
      "source": [
        "###Projeto - Tirar Número de Leitos por Município do DataSUS"
      ]
    },
    {
      "cell_type": "code",
      "metadata": {
        "id": "zTaJmUWfDUXB",
        "colab_type": "code",
        "colab": {}
      },
      "source": [
        "req = requests.get(\"http://tabnet.datasus.gov.br/cgi/tabcgi.exe?cnes/cnv/leiintbr.def\")\n",
        "if req.status_code == 200:\n",
        "    content = req.content"
      ],
      "execution_count": 0,
      "outputs": []
    },
    {
      "cell_type": "code",
      "metadata": {
        "id": "Dt4LNC1EGZl2",
        "colab_type": "code",
        "colab": {}
      },
      "source": [
        "soup = BeautifulSoup(content, \"html.parser\")"
      ],
      "execution_count": 0,
      "outputs": []
    },
    {
      "cell_type": "code",
      "metadata": {
        "id": "md5BJyX3Gapj",
        "colab_type": "code",
        "colab": {}
      },
      "source": [
        "table = soup.find(name=\"table\",attrs = {\"class\":\"tabdados\"})"
      ],
      "execution_count": 0,
      "outputs": []
    },
    {
      "cell_type": "code",
      "metadata": {
        "id": "zpQ3R94hGcCU",
        "colab_type": "code",
        "colab": {}
      },
      "source": [
        "table_str = str(table)"
      ],
      "execution_count": 0,
      "outputs": []
    },
    {
      "cell_type": "code",
      "metadata": {
        "id": "ko6YAXx0Gc83",
        "colab_type": "code",
        "colab": {}
      },
      "source": [
        "data = pd.read_html(table_str)[0]"
      ],
      "execution_count": 0,
      "outputs": []
    },
    {
      "cell_type": "code",
      "metadata": {
        "id": "xHJ594GZDyYk",
        "colab_type": "code",
        "colab": {}
      },
      "source": [
        "data"
      ],
      "execution_count": 0,
      "outputs": []
    }
  ]
}