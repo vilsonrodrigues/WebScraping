{
  "nbformat": 4,
  "nbformat_minor": 0,
  "metadata": {
    "colab": {
      "name": "Extracao_Links_Boletins_Brasil_IO.ipynb",
      "provenance": [],
      "collapsed_sections": [],
      "authorship_tag": "ABX9TyOcjGaHgv0NlJaXgOyeoWks",
      "include_colab_link": true
    },
    "kernelspec": {
      "name": "python3",
      "display_name": "Python 3"
    }
  },
  "cells": [
    {
      "cell_type": "markdown",
      "metadata": {
        "id": "view-in-github",
        "colab_type": "text"
      },
      "source": [
        "<a href=\"https://colab.research.google.com/github/vilsonrodrigues/WebScraping/blob/master/Extracao_Links_Boletins_Brasil_IO.ipynb\" target=\"_parent\"><img src=\"https://colab.research.google.com/assets/colab-badge.svg\" alt=\"Open In Colab\"/></a>"
      ]
    },
    {
      "cell_type": "markdown",
      "metadata": {
        "id": "fgMtBhW57T3m",
        "colab_type": "text"
      },
      "source": [
        "#Contexto: \n",
        "\n",
        "###O site Brasil IO disponibiliza uma série de links dos boletins das secretarías de saúde por estado.\n",
        "\n",
        "#Problema:\n",
        "\n",
        "###Esses links estão como hiperlinks, não estão direto dentro da tabela, o desafio é retirar esses links específicos de dentro da Tag TD."
      ]
    },
    {
      "cell_type": "markdown",
      "metadata": {
        "id": "jduVZwmQtYGi",
        "colab_type": "text"
      },
      "source": [
        "#1. Bibliotecas"
      ]
    },
    {
      "cell_type": "markdown",
      "metadata": {
        "id": "lvolnKgJtIAK",
        "colab_type": "text"
      },
      "source": [
        "###1.1 Instalação"
      ]
    },
    {
      "cell_type": "code",
      "metadata": {
        "id": "dpbH3VB6tKl6",
        "colab_type": "code",
        "colab": {}
      },
      "source": [
        "!pip install numpy\n",
        "!pip install pandas\n",
        "!pip install beautifulsoup4"
      ],
      "execution_count": 0,
      "outputs": []
    },
    {
      "cell_type": "markdown",
      "metadata": {
        "id": "3kEsHpsLtLSR",
        "colab_type": "text"
      },
      "source": [
        "###1.2 Importação"
      ]
    },
    {
      "cell_type": "code",
      "metadata": {
        "id": "zon1w-g7sjbm",
        "colab_type": "code",
        "colab": {}
      },
      "source": [
        "import pandas as pd\n",
        "import urllib3\n",
        "import datetime\n",
        "from datetime import timedelta\n",
        "from bs4 import BeautifulSoup"
      ],
      "execution_count": 0,
      "outputs": []
    },
    {
      "cell_type": "markdown",
      "metadata": {
        "id": "tW2Kde7ZvLjG",
        "colab_type": "text"
      },
      "source": [
        "#2. Formação da Base de Dados dos Links\n"
      ]
    },
    {
      "cell_type": "markdown",
      "metadata": {
        "id": "fGKRwTfMlSz6",
        "colab_type": "text"
      },
      "source": [
        "Objeto da urllib3 para extração já com o Proxy configurado"
      ]
    },
    {
      "cell_type": "code",
      "metadata": {
        "id": "U4XQO7-aXE5Z",
        "colab_type": "code",
        "colab": {}
      },
      "source": [
        "http = urllib3.PoolManager()"
      ],
      "execution_count": 0,
      "outputs": []
    },
    {
      "cell_type": "markdown",
      "metadata": {
        "id": "yI_xrs1slp6G",
        "colab_type": "text"
      },
      "source": [
        "Obtendo a data anterior para realizar a consulta no site do Brasil IO"
      ]
    },
    {
      "cell_type": "code",
      "metadata": {
        "id": "hGCUi3NAyZC3",
        "colab_type": "code",
        "colab": {
          "base_uri": "https://localhost:8080/",
          "height": 34
        },
        "outputId": "1f33de82-1f41-42a6-b3d5-5711464f1f63"
      },
      "source": [
        "dia_anterior = (datetime.datetime.now() - timedelta(days=1))\n",
        "dia_anterior = dia_anterior.strftime('%Y-%m-%d')\n",
        "dia_anterior"
      ],
      "execution_count": 3,
      "outputs": [
        {
          "output_type": "execute_result",
          "data": {
            "text/plain": [
              "'2020-04-20'"
            ]
          },
          "metadata": {
            "tags": []
          },
          "execution_count": 3
        }
      ]
    },
    {
      "cell_type": "markdown",
      "metadata": {
        "id": "Q8YmbQX0meKG",
        "colab_type": "text"
      },
      "source": [
        "Criação do link adaptável conforme o dia"
      ]
    },
    {
      "cell_type": "code",
      "metadata": {
        "id": "aqtqGlhaT0kK",
        "colab_type": "code",
        "colab": {
          "base_uri": "https://localhost:8080/",
          "height": 34
        },
        "outputId": "8296db51-3139-4dba-8c3b-2b96d45e1289"
      },
      "source": [
        "url = 'https://brasil.io/dataset/covid19/boletim?search=&date=' + dia_anterior + '&state='\n",
        "url"
      ],
      "execution_count": 4,
      "outputs": [
        {
          "output_type": "execute_result",
          "data": {
            "text/plain": [
              "'https://brasil.io/dataset/covid19/boletim?search=&date=2020-04-20&state='"
            ]
          },
          "metadata": {
            "tags": []
          },
          "execution_count": 4
        }
      ]
    },
    {
      "cell_type": "markdown",
      "metadata": {
        "id": "SHqGnotlmzrH",
        "colab_type": "text"
      },
      "source": [
        "Realizando Requisão GET e verificando se deu certo"
      ]
    },
    {
      "cell_type": "code",
      "metadata": {
        "id": "bp58CjfcXY-O",
        "colab_type": "code",
        "colab": {
          "base_uri": "https://localhost:8080/",
          "height": 125
        },
        "outputId": "a5906784-2749-44fd-e88f-8489d54bd3ab"
      },
      "source": [
        "req = http.request('GET',url)\n",
        "print(req.status)"
      ],
      "execution_count": 5,
      "outputs": [
        {
          "output_type": "stream",
          "text": [
            "/usr/local/lib/python3.6/dist-packages/urllib3/connectionpool.py:847: InsecureRequestWarning: Unverified HTTPS request is being made. Adding certificate verification is strongly advised. See: https://urllib3.readthedocs.io/en/latest/advanced-usage.html#ssl-warnings\n",
            "  InsecureRequestWarning)\n",
            "/usr/local/lib/python3.6/dist-packages/urllib3/connectionpool.py:847: InsecureRequestWarning: Unverified HTTPS request is being made. Adding certificate verification is strongly advised. See: https://urllib3.readthedocs.io/en/latest/advanced-usage.html#ssl-warnings\n",
            "  InsecureRequestWarning)\n"
          ],
          "name": "stderr"
        },
        {
          "output_type": "stream",
          "text": [
            "200\n"
          ],
          "name": "stdout"
        }
      ]
    },
    {
      "cell_type": "markdown",
      "metadata": {
        "id": "bla3oP0_niOx",
        "colab_type": "text"
      },
      "source": [
        "Usando soup para ler o objeto no formato HTML"
      ]
    },
    {
      "cell_type": "code",
      "metadata": {
        "id": "QWRuYrq6XmGe",
        "colab_type": "code",
        "colab": {}
      },
      "source": [
        "soup = BeautifulSoup(req.data, 'html.parser')"
      ],
      "execution_count": 0,
      "outputs": []
    },
    {
      "cell_type": "markdown",
      "metadata": {
        "id": "L6tuDNNZkeKw",
        "colab_type": "text"
      },
      "source": [
        "Lendo com o Pandas a tabela explícita"
      ]
    },
    {
      "cell_type": "code",
      "metadata": {
        "id": "0kR80FvVAULD",
        "colab_type": "code",
        "colab": {
          "base_uri": "https://localhost:8080/",
          "height": 797
        },
        "outputId": "1b20a0ea-da4a-4f65-a0c1-eee4ed20a8af"
      },
      "source": [
        "table_str = str(soup)\n",
        "df = pd.read_html(table_str)[0]\n",
        "df = df.iloc[:,:2]\n",
        "df.columns = ['date','uf']\n",
        "df"
      ],
      "execution_count": 7,
      "outputs": [
        {
          "output_type": "execute_result",
          "data": {
            "text/html": [
              "<div>\n",
              "<style scoped>\n",
              "    .dataframe tbody tr th:only-of-type {\n",
              "        vertical-align: middle;\n",
              "    }\n",
              "\n",
              "    .dataframe tbody tr th {\n",
              "        vertical-align: top;\n",
              "    }\n",
              "\n",
              "    .dataframe thead th {\n",
              "        text-align: right;\n",
              "    }\n",
              "</style>\n",
              "<table border=\"1\" class=\"dataframe\">\n",
              "  <thead>\n",
              "    <tr style=\"text-align: right;\">\n",
              "      <th></th>\n",
              "      <th>date</th>\n",
              "      <th>uf</th>\n",
              "    </tr>\n",
              "  </thead>\n",
              "  <tbody>\n",
              "    <tr>\n",
              "      <th>0</th>\n",
              "      <td>2020-04-20</td>\n",
              "      <td>AC</td>\n",
              "    </tr>\n",
              "    <tr>\n",
              "      <th>1</th>\n",
              "      <td>2020-04-20</td>\n",
              "      <td>AC</td>\n",
              "    </tr>\n",
              "    <tr>\n",
              "      <th>2</th>\n",
              "      <td>2020-04-20</td>\n",
              "      <td>AL</td>\n",
              "    </tr>\n",
              "    <tr>\n",
              "      <th>3</th>\n",
              "      <td>2020-04-20</td>\n",
              "      <td>AM</td>\n",
              "    </tr>\n",
              "    <tr>\n",
              "      <th>4</th>\n",
              "      <td>2020-04-20</td>\n",
              "      <td>AP</td>\n",
              "    </tr>\n",
              "    <tr>\n",
              "      <th>5</th>\n",
              "      <td>2020-04-20</td>\n",
              "      <td>BA</td>\n",
              "    </tr>\n",
              "    <tr>\n",
              "      <th>6</th>\n",
              "      <td>2020-04-20</td>\n",
              "      <td>CE</td>\n",
              "    </tr>\n",
              "    <tr>\n",
              "      <th>7</th>\n",
              "      <td>2020-04-20</td>\n",
              "      <td>DF</td>\n",
              "    </tr>\n",
              "    <tr>\n",
              "      <th>8</th>\n",
              "      <td>2020-04-20</td>\n",
              "      <td>ES</td>\n",
              "    </tr>\n",
              "    <tr>\n",
              "      <th>9</th>\n",
              "      <td>2020-04-20</td>\n",
              "      <td>MA</td>\n",
              "    </tr>\n",
              "    <tr>\n",
              "      <th>10</th>\n",
              "      <td>2020-04-20</td>\n",
              "      <td>MG</td>\n",
              "    </tr>\n",
              "    <tr>\n",
              "      <th>11</th>\n",
              "      <td>2020-04-20</td>\n",
              "      <td>MS</td>\n",
              "    </tr>\n",
              "    <tr>\n",
              "      <th>12</th>\n",
              "      <td>2020-04-20</td>\n",
              "      <td>MT</td>\n",
              "    </tr>\n",
              "    <tr>\n",
              "      <th>13</th>\n",
              "      <td>2020-04-20</td>\n",
              "      <td>PA</td>\n",
              "    </tr>\n",
              "    <tr>\n",
              "      <th>14</th>\n",
              "      <td>2020-04-20</td>\n",
              "      <td>PB</td>\n",
              "    </tr>\n",
              "    <tr>\n",
              "      <th>15</th>\n",
              "      <td>2020-04-20</td>\n",
              "      <td>PE</td>\n",
              "    </tr>\n",
              "    <tr>\n",
              "      <th>16</th>\n",
              "      <td>2020-04-20</td>\n",
              "      <td>PI</td>\n",
              "    </tr>\n",
              "    <tr>\n",
              "      <th>17</th>\n",
              "      <td>2020-04-20</td>\n",
              "      <td>PR</td>\n",
              "    </tr>\n",
              "    <tr>\n",
              "      <th>18</th>\n",
              "      <td>2020-04-20</td>\n",
              "      <td>RO</td>\n",
              "    </tr>\n",
              "    <tr>\n",
              "      <th>19</th>\n",
              "      <td>2020-04-20</td>\n",
              "      <td>RR</td>\n",
              "    </tr>\n",
              "    <tr>\n",
              "      <th>20</th>\n",
              "      <td>2020-04-20</td>\n",
              "      <td>RS</td>\n",
              "    </tr>\n",
              "    <tr>\n",
              "      <th>21</th>\n",
              "      <td>2020-04-20</td>\n",
              "      <td>SC</td>\n",
              "    </tr>\n",
              "    <tr>\n",
              "      <th>22</th>\n",
              "      <td>2020-04-20</td>\n",
              "      <td>SE</td>\n",
              "    </tr>\n",
              "    <tr>\n",
              "      <th>23</th>\n",
              "      <td>2020-04-20</td>\n",
              "      <td>SP</td>\n",
              "    </tr>\n",
              "    <tr>\n",
              "      <th>24</th>\n",
              "      <td>2020-04-20</td>\n",
              "      <td>TO</td>\n",
              "    </tr>\n",
              "  </tbody>\n",
              "</table>\n",
              "</div>"
            ],
            "text/plain": [
              "          date  uf\n",
              "0   2020-04-20  AC\n",
              "1   2020-04-20  AC\n",
              "2   2020-04-20  AL\n",
              "3   2020-04-20  AM\n",
              "4   2020-04-20  AP\n",
              "5   2020-04-20  BA\n",
              "6   2020-04-20  CE\n",
              "7   2020-04-20  DF\n",
              "8   2020-04-20  ES\n",
              "9   2020-04-20  MA\n",
              "10  2020-04-20  MG\n",
              "11  2020-04-20  MS\n",
              "12  2020-04-20  MT\n",
              "13  2020-04-20  PA\n",
              "14  2020-04-20  PB\n",
              "15  2020-04-20  PE\n",
              "16  2020-04-20  PI\n",
              "17  2020-04-20  PR\n",
              "18  2020-04-20  RO\n",
              "19  2020-04-20  RR\n",
              "20  2020-04-20  RS\n",
              "21  2020-04-20  SC\n",
              "22  2020-04-20  SE\n",
              "23  2020-04-20  SP\n",
              "24  2020-04-20  TO"
            ]
          },
          "metadata": {
            "tags": []
          },
          "execution_count": 7
        }
      ]
    },
    {
      "cell_type": "markdown",
      "metadata": {
        "id": "-2NVMxmAklQb",
        "colab_type": "text"
      },
      "source": [
        "Retirando os links de dentro da tag TD"
      ]
    },
    {
      "cell_type": "code",
      "metadata": {
        "id": "37J5ZxZjkXZF",
        "colab_type": "code",
        "colab": {
          "base_uri": "https://localhost:8080/",
          "height": 498
        },
        "outputId": "ac18cf1f-5fe6-49fa-baab-c659f8d0ac00"
      },
      "source": [
        "links = []\n",
        "tabela_td = soup.select('td a')\n",
        "for a in tabela_td:\n",
        "  print(a['href'])\n",
        "  links.append(a['href'])\n",
        "\n",
        "print('Total de links', len(links))"
      ],
      "execution_count": 8,
      "outputs": [
        {
          "output_type": "stream",
          "text": [
            "https://agencia.ac.gov.br/boletim-sesacre-desta-segunda-feira-20-sobre-o-coronavirus/\n",
            "https://agencia.ac.gov.br/wp-content/uploads/2020/04/BOLETIM_COVID-19_ACRE_31_20.04.2020-1.pdf\n",
            "http://www.saude.al.gov.br/2020/04/20/boletim-20-04-al-tem-171-casos-da-covid-19-e-18-obitos/\n",
            "http://www.saude.am.gov.br/visualizar-noticia.php?id=4473\n",
            "https://www.portal.ap.gov.br/noticia/2004/atualizacao-ndash-boletim-informativo-covid-19-amapa-20-de-abril-de-2020-ndash-18h30\n",
            "http://www.saude.ba.gov.br/2020/04/20/bahia-tem-1-377-confirmacoes-de-covid-19/\n",
            "https://indicadores.integrasus.saude.ce.gov.br/indicadores/indicadores-coronavirus/coronavirus-ceara\n",
            "http://www.saude.df.gov.br/wp-conteudo/uploads/2020/03/Boletim-COVID_DF-20.04.2020_prisional-separado.pdf\n",
            "https://coronavirus.es.gov.br/painel-covid-19-es\n",
            "http://www.saude.ma.gov.br/wp-content/uploads/2020/04/nota41.pdf\n",
            "https://www.saude.mg.gov.br/images/noticias_e_eventos/000_2020/Boletins_Corona/20.04.2020_Boletim_epidemiologico_COVID-19_MG.pdf\n",
            "https://www.vs.saude.ms.gov.br/wp-content/uploads/2020/04/Boletim-Epidemiol%C3%B3gico-COVID-19-2020.04.20.pdf\n",
            "http://www.saude.mt.gov.br/arquivo/10969\n",
            "https://twitter.com/SespaPara/status/1252290164560404483\n",
            "https://paraiba.pb.gov.br/diretas/saude/coronavirus/noticias/atualizacao-covid-19-20-04-17h\n",
            "https://www.dropbox.com/s/k69aplugo3pc98y/Boletim%20Covid-19%20-%20Secretaria%20de%20Sa%C3%BAde%20de%20Pernambuco%20-%2020.04.pdf?dl=0\n",
            "https://datastudio.google.com/u/0/reporting/a6dc07e9-4161-4b5a-9f2a-6f9be486e8f9/page/3PzLB\n",
            "http://www.saude.pr.gov.br/arquivos/File/INFORME_EPIDEMIOLOGICO_20_04_2020.pdf\n",
            "http://www.rondonia.ro.gov.br/edicao-36-boletim-diario-sobre-coronavirus-em-rondoniaedicao-35-boletim-diario-sobre-coronavirus-em-rondonia-2/\n",
            "https://saude.rr.gov.br/index.php/informacoesx/coronavirus/informacoes-coronavirus/file/1207-boletim-epidemiologico-coronavirus-082-2020\n",
            "http://ti.saude.rs.gov.br/covid19/\n",
            "http://www.saude.sc.gov.br/index.php/noticias-geral/11237-governo-do-estado-confirma-1-063-casos-e-35-mortes-por-covid-19\n",
            "https://www.saude.se.gov.br/?p=40098\n",
            "http://www.saude.sp.gov.br/resources/cve-centro-de-vigilancia-epidemiologica/areas-de-vigilancia/doencas-de-transmissao-respiratoria/coronavirus/coronavirus200420_54situacao_epidemiologica.pdf\n",
            "https://central3.to.gov.br/arquivo/502110/\n",
            "Total de links 25\n"
          ],
          "name": "stdout"
        }
      ]
    },
    {
      "cell_type": "markdown",
      "metadata": {
        "id": "gt1xNdVQmH3V",
        "colab_type": "text"
      },
      "source": [
        "Inserindo a lista de links no DF"
      ]
    },
    {
      "cell_type": "code",
      "metadata": {
        "id": "yaEgUroamLiX",
        "colab_type": "code",
        "colab": {
          "base_uri": "https://localhost:8080/",
          "height": 197
        },
        "outputId": "675e914c-5fd0-41bd-ef83-24435d275b50"
      },
      "source": [
        "df['link'] = links\n",
        "df.head() "
      ],
      "execution_count": 9,
      "outputs": [
        {
          "output_type": "execute_result",
          "data": {
            "text/html": [
              "<div>\n",
              "<style scoped>\n",
              "    .dataframe tbody tr th:only-of-type {\n",
              "        vertical-align: middle;\n",
              "    }\n",
              "\n",
              "    .dataframe tbody tr th {\n",
              "        vertical-align: top;\n",
              "    }\n",
              "\n",
              "    .dataframe thead th {\n",
              "        text-align: right;\n",
              "    }\n",
              "</style>\n",
              "<table border=\"1\" class=\"dataframe\">\n",
              "  <thead>\n",
              "    <tr style=\"text-align: right;\">\n",
              "      <th></th>\n",
              "      <th>date</th>\n",
              "      <th>uf</th>\n",
              "      <th>link</th>\n",
              "    </tr>\n",
              "  </thead>\n",
              "  <tbody>\n",
              "    <tr>\n",
              "      <th>0</th>\n",
              "      <td>2020-04-20</td>\n",
              "      <td>AC</td>\n",
              "      <td>https://agencia.ac.gov.br/boletim-sesacre-dest...</td>\n",
              "    </tr>\n",
              "    <tr>\n",
              "      <th>1</th>\n",
              "      <td>2020-04-20</td>\n",
              "      <td>AC</td>\n",
              "      <td>https://agencia.ac.gov.br/wp-content/uploads/2...</td>\n",
              "    </tr>\n",
              "    <tr>\n",
              "      <th>2</th>\n",
              "      <td>2020-04-20</td>\n",
              "      <td>AL</td>\n",
              "      <td>http://www.saude.al.gov.br/2020/04/20/boletim-...</td>\n",
              "    </tr>\n",
              "    <tr>\n",
              "      <th>3</th>\n",
              "      <td>2020-04-20</td>\n",
              "      <td>AM</td>\n",
              "      <td>http://www.saude.am.gov.br/visualizar-noticia....</td>\n",
              "    </tr>\n",
              "    <tr>\n",
              "      <th>4</th>\n",
              "      <td>2020-04-20</td>\n",
              "      <td>AP</td>\n",
              "      <td>https://www.portal.ap.gov.br/noticia/2004/atua...</td>\n",
              "    </tr>\n",
              "  </tbody>\n",
              "</table>\n",
              "</div>"
            ],
            "text/plain": [
              "         date  uf                                               link\n",
              "0  2020-04-20  AC  https://agencia.ac.gov.br/boletim-sesacre-dest...\n",
              "1  2020-04-20  AC  https://agencia.ac.gov.br/wp-content/uploads/2...\n",
              "2  2020-04-20  AL  http://www.saude.al.gov.br/2020/04/20/boletim-...\n",
              "3  2020-04-20  AM  http://www.saude.am.gov.br/visualizar-noticia....\n",
              "4  2020-04-20  AP  https://www.portal.ap.gov.br/noticia/2004/atua..."
            ]
          },
          "metadata": {
            "tags": []
          },
          "execution_count": 9
        }
      ]
    },
    {
      "cell_type": "markdown",
      "metadata": {
        "id": "DfK9xBLpnepd",
        "colab_type": "text"
      },
      "source": [
        "Removendo campos onde seja uma duplicata, ou seja, no dia saiu mais uma atualização, mantenho ela"
      ]
    },
    {
      "cell_type": "code",
      "metadata": {
        "id": "YADsksWEq9CQ",
        "colab_type": "code",
        "colab": {}
      },
      "source": [
        "df = df.drop_duplicates(subset = ['uf'], keep = 'last')"
      ],
      "execution_count": 0,
      "outputs": []
    },
    {
      "cell_type": "code",
      "metadata": {
        "id": "mlS1tfCq9QAU",
        "colab_type": "code",
        "colab": {
          "base_uri": "https://localhost:8080/",
          "height": 767
        },
        "outputId": "eb139fae-d10a-4791-893e-32d648b4961c"
      },
      "source": [
        "df"
      ],
      "execution_count": 11,
      "outputs": [
        {
          "output_type": "execute_result",
          "data": {
            "text/html": [
              "<div>\n",
              "<style scoped>\n",
              "    .dataframe tbody tr th:only-of-type {\n",
              "        vertical-align: middle;\n",
              "    }\n",
              "\n",
              "    .dataframe tbody tr th {\n",
              "        vertical-align: top;\n",
              "    }\n",
              "\n",
              "    .dataframe thead th {\n",
              "        text-align: right;\n",
              "    }\n",
              "</style>\n",
              "<table border=\"1\" class=\"dataframe\">\n",
              "  <thead>\n",
              "    <tr style=\"text-align: right;\">\n",
              "      <th></th>\n",
              "      <th>date</th>\n",
              "      <th>uf</th>\n",
              "      <th>link</th>\n",
              "    </tr>\n",
              "  </thead>\n",
              "  <tbody>\n",
              "    <tr>\n",
              "      <th>1</th>\n",
              "      <td>2020-04-20</td>\n",
              "      <td>AC</td>\n",
              "      <td>https://agencia.ac.gov.br/wp-content/uploads/2...</td>\n",
              "    </tr>\n",
              "    <tr>\n",
              "      <th>2</th>\n",
              "      <td>2020-04-20</td>\n",
              "      <td>AL</td>\n",
              "      <td>http://www.saude.al.gov.br/2020/04/20/boletim-...</td>\n",
              "    </tr>\n",
              "    <tr>\n",
              "      <th>3</th>\n",
              "      <td>2020-04-20</td>\n",
              "      <td>AM</td>\n",
              "      <td>http://www.saude.am.gov.br/visualizar-noticia....</td>\n",
              "    </tr>\n",
              "    <tr>\n",
              "      <th>4</th>\n",
              "      <td>2020-04-20</td>\n",
              "      <td>AP</td>\n",
              "      <td>https://www.portal.ap.gov.br/noticia/2004/atua...</td>\n",
              "    </tr>\n",
              "    <tr>\n",
              "      <th>5</th>\n",
              "      <td>2020-04-20</td>\n",
              "      <td>BA</td>\n",
              "      <td>http://www.saude.ba.gov.br/2020/04/20/bahia-te...</td>\n",
              "    </tr>\n",
              "    <tr>\n",
              "      <th>6</th>\n",
              "      <td>2020-04-20</td>\n",
              "      <td>CE</td>\n",
              "      <td>https://indicadores.integrasus.saude.ce.gov.br...</td>\n",
              "    </tr>\n",
              "    <tr>\n",
              "      <th>7</th>\n",
              "      <td>2020-04-20</td>\n",
              "      <td>DF</td>\n",
              "      <td>http://www.saude.df.gov.br/wp-conteudo/uploads...</td>\n",
              "    </tr>\n",
              "    <tr>\n",
              "      <th>8</th>\n",
              "      <td>2020-04-20</td>\n",
              "      <td>ES</td>\n",
              "      <td>https://coronavirus.es.gov.br/painel-covid-19-es</td>\n",
              "    </tr>\n",
              "    <tr>\n",
              "      <th>9</th>\n",
              "      <td>2020-04-20</td>\n",
              "      <td>MA</td>\n",
              "      <td>http://www.saude.ma.gov.br/wp-content/uploads/...</td>\n",
              "    </tr>\n",
              "    <tr>\n",
              "      <th>10</th>\n",
              "      <td>2020-04-20</td>\n",
              "      <td>MG</td>\n",
              "      <td>https://www.saude.mg.gov.br/images/noticias_e_...</td>\n",
              "    </tr>\n",
              "    <tr>\n",
              "      <th>11</th>\n",
              "      <td>2020-04-20</td>\n",
              "      <td>MS</td>\n",
              "      <td>https://www.vs.saude.ms.gov.br/wp-content/uplo...</td>\n",
              "    </tr>\n",
              "    <tr>\n",
              "      <th>12</th>\n",
              "      <td>2020-04-20</td>\n",
              "      <td>MT</td>\n",
              "      <td>http://www.saude.mt.gov.br/arquivo/10969</td>\n",
              "    </tr>\n",
              "    <tr>\n",
              "      <th>13</th>\n",
              "      <td>2020-04-20</td>\n",
              "      <td>PA</td>\n",
              "      <td>https://twitter.com/SespaPara/status/125229016...</td>\n",
              "    </tr>\n",
              "    <tr>\n",
              "      <th>14</th>\n",
              "      <td>2020-04-20</td>\n",
              "      <td>PB</td>\n",
              "      <td>https://paraiba.pb.gov.br/diretas/saude/corona...</td>\n",
              "    </tr>\n",
              "    <tr>\n",
              "      <th>15</th>\n",
              "      <td>2020-04-20</td>\n",
              "      <td>PE</td>\n",
              "      <td>https://www.dropbox.com/s/k69aplugo3pc98y/Bole...</td>\n",
              "    </tr>\n",
              "    <tr>\n",
              "      <th>16</th>\n",
              "      <td>2020-04-20</td>\n",
              "      <td>PI</td>\n",
              "      <td>https://datastudio.google.com/u/0/reporting/a6...</td>\n",
              "    </tr>\n",
              "    <tr>\n",
              "      <th>17</th>\n",
              "      <td>2020-04-20</td>\n",
              "      <td>PR</td>\n",
              "      <td>http://www.saude.pr.gov.br/arquivos/File/INFOR...</td>\n",
              "    </tr>\n",
              "    <tr>\n",
              "      <th>18</th>\n",
              "      <td>2020-04-20</td>\n",
              "      <td>RO</td>\n",
              "      <td>http://www.rondonia.ro.gov.br/edicao-36-boleti...</td>\n",
              "    </tr>\n",
              "    <tr>\n",
              "      <th>19</th>\n",
              "      <td>2020-04-20</td>\n",
              "      <td>RR</td>\n",
              "      <td>https://saude.rr.gov.br/index.php/informacoesx...</td>\n",
              "    </tr>\n",
              "    <tr>\n",
              "      <th>20</th>\n",
              "      <td>2020-04-20</td>\n",
              "      <td>RS</td>\n",
              "      <td>http://ti.saude.rs.gov.br/covid19/</td>\n",
              "    </tr>\n",
              "    <tr>\n",
              "      <th>21</th>\n",
              "      <td>2020-04-20</td>\n",
              "      <td>SC</td>\n",
              "      <td>http://www.saude.sc.gov.br/index.php/noticias-...</td>\n",
              "    </tr>\n",
              "    <tr>\n",
              "      <th>22</th>\n",
              "      <td>2020-04-20</td>\n",
              "      <td>SE</td>\n",
              "      <td>https://www.saude.se.gov.br/?p=40098</td>\n",
              "    </tr>\n",
              "    <tr>\n",
              "      <th>23</th>\n",
              "      <td>2020-04-20</td>\n",
              "      <td>SP</td>\n",
              "      <td>http://www.saude.sp.gov.br/resources/cve-centr...</td>\n",
              "    </tr>\n",
              "    <tr>\n",
              "      <th>24</th>\n",
              "      <td>2020-04-20</td>\n",
              "      <td>TO</td>\n",
              "      <td>https://central3.to.gov.br/arquivo/502110/</td>\n",
              "    </tr>\n",
              "  </tbody>\n",
              "</table>\n",
              "</div>"
            ],
            "text/plain": [
              "          date  uf                                               link\n",
              "1   2020-04-20  AC  https://agencia.ac.gov.br/wp-content/uploads/2...\n",
              "2   2020-04-20  AL  http://www.saude.al.gov.br/2020/04/20/boletim-...\n",
              "3   2020-04-20  AM  http://www.saude.am.gov.br/visualizar-noticia....\n",
              "4   2020-04-20  AP  https://www.portal.ap.gov.br/noticia/2004/atua...\n",
              "5   2020-04-20  BA  http://www.saude.ba.gov.br/2020/04/20/bahia-te...\n",
              "6   2020-04-20  CE  https://indicadores.integrasus.saude.ce.gov.br...\n",
              "7   2020-04-20  DF  http://www.saude.df.gov.br/wp-conteudo/uploads...\n",
              "8   2020-04-20  ES   https://coronavirus.es.gov.br/painel-covid-19-es\n",
              "9   2020-04-20  MA  http://www.saude.ma.gov.br/wp-content/uploads/...\n",
              "10  2020-04-20  MG  https://www.saude.mg.gov.br/images/noticias_e_...\n",
              "11  2020-04-20  MS  https://www.vs.saude.ms.gov.br/wp-content/uplo...\n",
              "12  2020-04-20  MT           http://www.saude.mt.gov.br/arquivo/10969\n",
              "13  2020-04-20  PA  https://twitter.com/SespaPara/status/125229016...\n",
              "14  2020-04-20  PB  https://paraiba.pb.gov.br/diretas/saude/corona...\n",
              "15  2020-04-20  PE  https://www.dropbox.com/s/k69aplugo3pc98y/Bole...\n",
              "16  2020-04-20  PI  https://datastudio.google.com/u/0/reporting/a6...\n",
              "17  2020-04-20  PR  http://www.saude.pr.gov.br/arquivos/File/INFOR...\n",
              "18  2020-04-20  RO  http://www.rondonia.ro.gov.br/edicao-36-boleti...\n",
              "19  2020-04-20  RR  https://saude.rr.gov.br/index.php/informacoesx...\n",
              "20  2020-04-20  RS                 http://ti.saude.rs.gov.br/covid19/\n",
              "21  2020-04-20  SC  http://www.saude.sc.gov.br/index.php/noticias-...\n",
              "22  2020-04-20  SE               https://www.saude.se.gov.br/?p=40098\n",
              "23  2020-04-20  SP  http://www.saude.sp.gov.br/resources/cve-centr...\n",
              "24  2020-04-20  TO         https://central3.to.gov.br/arquivo/502110/"
            ]
          },
          "metadata": {
            "tags": []
          },
          "execution_count": 11
        }
      ]
    },
    {
      "cell_type": "markdown",
      "metadata": {
        "id": "PsGYqXRp8yaN",
        "colab_type": "text"
      },
      "source": [
        "Persistindo o DataFrame em disco"
      ]
    },
    {
      "cell_type": "code",
      "metadata": {
        "id": "Pb2debGx85O4",
        "colab_type": "code",
        "colab": {}
      },
      "source": [
        "dt.to_csv('links_boletins.csv')"
      ],
      "execution_count": 0,
      "outputs": []
    }
  ]
}